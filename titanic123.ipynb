{
 "cells": [
  {
   "cell_type": "code",
   "execution_count": 1,
   "id": "cbb64ccc",
   "metadata": {
    "_cell_guid": "b1076dfc-b9ad-4769-8c92-a6c4dae69d19",
    "_uuid": "8f2839f25d086af736a60e9eeb907d3b93b6e0e5",
    "execution": {
     "iopub.execute_input": "2022-07-23T17:44:45.032022Z",
     "iopub.status.busy": "2022-07-23T17:44:45.030960Z",
     "iopub.status.idle": "2022-07-23T17:44:45.060336Z",
     "shell.execute_reply": "2022-07-23T17:44:45.059215Z"
    },
    "papermill": {
     "duration": 0.052227,
     "end_time": "2022-07-23T17:44:45.063508",
     "exception": false,
     "start_time": "2022-07-23T17:44:45.011281",
     "status": "completed"
    },
    "tags": []
   },
   "outputs": [
    {
     "data": {
      "text/html": [
       "<img src=\"data:image/jpeg;base64,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\"/>"
      ],
      "text/plain": [
       "<IPython.core.display.Image object>"
      ]
     },
     "execution_count": 1,
     "metadata": {},
     "output_type": "execute_result"
    }
   ],
   "source": [
    "from IPython.display import Image\n",
    "Image(url= \"data:image/jpeg;base64,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\")"
   ]
  },
  {
   "cell_type": "code",
   "execution_count": 2,
   "id": "7bccba17",
   "metadata": {
    "execution": {
     "iopub.execute_input": "2022-07-23T17:44:45.098688Z",
     "iopub.status.busy": "2022-07-23T17:44:45.097909Z",
     "iopub.status.idle": "2022-07-23T17:44:46.570608Z",
     "shell.execute_reply": "2022-07-23T17:44:46.569509Z"
    },
    "papermill": {
     "duration": 1.493361,
     "end_time": "2022-07-23T17:44:46.573425",
     "exception": false,
     "start_time": "2022-07-23T17:44:45.080064",
     "status": "completed"
    },
    "tags": []
   },
   "outputs": [],
   "source": [
    "# linear algebra\n",
    "import numpy as np \n",
    "\n",
    "# data processing\n",
    "import pandas as pd \n",
    "\n",
    "# data visualization\n",
    "import seaborn as sns\n",
    "%matplotlib inline\n",
    "from matplotlib import pyplot as plt\n",
    "import seaborn as sns\n",
    "sns.set()\n",
    "\n",
    "# Algorithms\n",
    "from sklearn import linear_model\n",
    "from sklearn.linear_model import LogisticRegression\n",
    "from sklearn.ensemble import RandomForestClassifier\n",
    "from sklearn.linear_model import Perceptron\n",
    "from sklearn.linear_model import SGDClassifier\n",
    "from sklearn.tree import DecisionTreeClassifier\n",
    "from sklearn.neighbors import KNeighborsClassifier\n",
    "from sklearn.svm import SVC, LinearSVC\n",
    "from sklearn.naive_bayes import GaussianNB"
   ]
  },
  {
   "cell_type": "code",
   "execution_count": 3,
   "id": "04152994",
   "metadata": {
    "execution": {
     "iopub.execute_input": "2022-07-23T17:44:46.610019Z",
     "iopub.status.busy": "2022-07-23T17:44:46.609346Z",
     "iopub.status.idle": "2022-07-23T17:44:46.649498Z",
     "shell.execute_reply": "2022-07-23T17:44:46.648309Z"
    },
    "papermill": {
     "duration": 0.062478,
     "end_time": "2022-07-23T17:44:46.652219",
     "exception": false,
     "start_time": "2022-07-23T17:44:46.589741",
     "status": "completed"
    },
    "tags": []
   },
   "outputs": [],
   "source": [
    "train = pd.read_csv(\"../input/titanic/train.csv\")\n",
    "test = pd.read_csv(\"../input/titanic/test.csv\")"
   ]
  },
  {
   "cell_type": "code",
   "execution_count": 4,
   "id": "b9ad8741",
   "metadata": {
    "execution": {
     "iopub.execute_input": "2022-07-23T17:44:46.687305Z",
     "iopub.status.busy": "2022-07-23T17:44:46.686524Z",
     "iopub.status.idle": "2022-07-23T17:44:46.696452Z",
     "shell.execute_reply": "2022-07-23T17:44:46.694898Z"
    },
    "papermill": {
     "duration": 0.029936,
     "end_time": "2022-07-23T17:44:46.698730",
     "exception": false,
     "start_time": "2022-07-23T17:44:46.668794",
     "status": "completed"
    },
    "tags": []
   },
   "outputs": [
    {
     "name": "stdout",
     "output_type": "stream",
     "text": [
      "Train Shape: (891, 12)\n"
     ]
    }
   ],
   "source": [
    "train.isnull().sum()\n",
    "print(\"Train Shape:\",train.shape)\n"
   ]
  },
  {
   "cell_type": "code",
   "execution_count": 5,
   "id": "11427a93",
   "metadata": {
    "execution": {
     "iopub.execute_input": "2022-07-23T17:44:46.733133Z",
     "iopub.status.busy": "2022-07-23T17:44:46.732715Z",
     "iopub.status.idle": "2022-07-23T17:44:46.740529Z",
     "shell.execute_reply": "2022-07-23T17:44:46.739317Z"
    },
    "papermill": {
     "duration": 0.027526,
     "end_time": "2022-07-23T17:44:46.742553",
     "exception": false,
     "start_time": "2022-07-23T17:44:46.715027",
     "status": "completed"
    },
    "tags": []
   },
   "outputs": [
    {
     "name": "stdout",
     "output_type": "stream",
     "text": [
      "Test Shape: (418, 11)\n"
     ]
    }
   ],
   "source": [
    "test.isnull().sum()\n",
    "print(\"Test Shape:\",test.shape)"
   ]
  },
  {
   "cell_type": "code",
   "execution_count": 6,
   "id": "e5c46e82",
   "metadata": {
    "execution": {
     "iopub.execute_input": "2022-07-23T17:44:46.777350Z",
     "iopub.status.busy": "2022-07-23T17:44:46.776374Z",
     "iopub.status.idle": "2022-07-23T17:44:46.802723Z",
     "shell.execute_reply": "2022-07-23T17:44:46.801311Z"
    },
    "papermill": {
     "duration": 0.046523,
     "end_time": "2022-07-23T17:44:46.805395",
     "exception": false,
     "start_time": "2022-07-23T17:44:46.758872",
     "status": "completed"
    },
    "tags": []
   },
   "outputs": [
    {
     "name": "stdout",
     "output_type": "stream",
     "text": [
      "<class 'pandas.core.frame.DataFrame'>\n",
      "RangeIndex: 891 entries, 0 to 890\n",
      "Data columns (total 12 columns):\n",
      " #   Column       Non-Null Count  Dtype  \n",
      "---  ------       --------------  -----  \n",
      " 0   PassengerId  891 non-null    int64  \n",
      " 1   Survived     891 non-null    int64  \n",
      " 2   Pclass       891 non-null    int64  \n",
      " 3   Name         891 non-null    object \n",
      " 4   Sex          891 non-null    object \n",
      " 5   Age          714 non-null    float64\n",
      " 6   SibSp        891 non-null    int64  \n",
      " 7   Parch        891 non-null    int64  \n",
      " 8   Ticket       891 non-null    object \n",
      " 9   Fare         891 non-null    float64\n",
      " 10  Cabin        204 non-null    object \n",
      " 11  Embarked     889 non-null    object \n",
      "dtypes: float64(2), int64(5), object(5)\n",
      "memory usage: 83.7+ KB\n"
     ]
    }
   ],
   "source": [
    "train.info()"
   ]
  },
  {
   "cell_type": "code",
   "execution_count": 7,
   "id": "5689e083",
   "metadata": {
    "execution": {
     "iopub.execute_input": "2022-07-23T17:44:46.841525Z",
     "iopub.status.busy": "2022-07-23T17:44:46.840603Z",
     "iopub.status.idle": "2022-07-23T17:44:46.854725Z",
     "shell.execute_reply": "2022-07-23T17:44:46.852594Z"
    },
    "papermill": {
     "duration": 0.035118,
     "end_time": "2022-07-23T17:44:46.857510",
     "exception": false,
     "start_time": "2022-07-23T17:44:46.822392",
     "status": "completed"
    },
    "tags": []
   },
   "outputs": [
    {
     "name": "stdout",
     "output_type": "stream",
     "text": [
      "<class 'pandas.core.frame.DataFrame'>\n",
      "RangeIndex: 418 entries, 0 to 417\n",
      "Data columns (total 11 columns):\n",
      " #   Column       Non-Null Count  Dtype  \n",
      "---  ------       --------------  -----  \n",
      " 0   PassengerId  418 non-null    int64  \n",
      " 1   Pclass       418 non-null    int64  \n",
      " 2   Name         418 non-null    object \n",
      " 3   Sex          418 non-null    object \n",
      " 4   Age          332 non-null    float64\n",
      " 5   SibSp        418 non-null    int64  \n",
      " 6   Parch        418 non-null    int64  \n",
      " 7   Ticket       418 non-null    object \n",
      " 8   Fare         417 non-null    float64\n",
      " 9   Cabin        91 non-null     object \n",
      " 10  Embarked     418 non-null    object \n",
      "dtypes: float64(2), int64(4), object(5)\n",
      "memory usage: 36.0+ KB\n"
     ]
    }
   ],
   "source": [
    "test.info()"
   ]
  },
  {
   "cell_type": "code",
   "execution_count": 8,
   "id": "fd52a61d",
   "metadata": {
    "execution": {
     "iopub.execute_input": "2022-07-23T17:44:46.892978Z",
     "iopub.status.busy": "2022-07-23T17:44:46.891986Z",
     "iopub.status.idle": "2022-07-23T17:44:46.913525Z",
     "shell.execute_reply": "2022-07-23T17:44:46.912634Z"
    },
    "papermill": {
     "duration": 0.041244,
     "end_time": "2022-07-23T17:44:46.915575",
     "exception": false,
     "start_time": "2022-07-23T17:44:46.874331",
     "status": "completed"
    },
    "tags": []
   },
   "outputs": [
    {
     "data": {
      "text/html": [
       "<div>\n",
       "<style scoped>\n",
       "    .dataframe tbody tr th:only-of-type {\n",
       "        vertical-align: middle;\n",
       "    }\n",
       "\n",
       "    .dataframe tbody tr th {\n",
       "        vertical-align: top;\n",
       "    }\n",
       "\n",
       "    .dataframe thead th {\n",
       "        text-align: right;\n",
       "    }\n",
       "</style>\n",
       "<table border=\"1\" class=\"dataframe\">\n",
       "  <thead>\n",
       "    <tr style=\"text-align: right;\">\n",
       "      <th></th>\n",
       "      <th>PassengerId</th>\n",
       "      <th>Survived</th>\n",
       "      <th>Pclass</th>\n",
       "      <th>Name</th>\n",
       "      <th>Sex</th>\n",
       "      <th>Age</th>\n",
       "      <th>SibSp</th>\n",
       "      <th>Parch</th>\n",
       "      <th>Ticket</th>\n",
       "      <th>Fare</th>\n",
       "      <th>Cabin</th>\n",
       "      <th>Embarked</th>\n",
       "    </tr>\n",
       "  </thead>\n",
       "  <tbody>\n",
       "    <tr>\n",
       "      <th>0</th>\n",
       "      <td>1</td>\n",
       "      <td>0</td>\n",
       "      <td>3</td>\n",
       "      <td>Braund, Mr. Owen Harris</td>\n",
       "      <td>male</td>\n",
       "      <td>22.0</td>\n",
       "      <td>1</td>\n",
       "      <td>0</td>\n",
       "      <td>A/5 21171</td>\n",
       "      <td>7.2500</td>\n",
       "      <td>NaN</td>\n",
       "      <td>S</td>\n",
       "    </tr>\n",
       "    <tr>\n",
       "      <th>1</th>\n",
       "      <td>2</td>\n",
       "      <td>1</td>\n",
       "      <td>1</td>\n",
       "      <td>Cumings, Mrs. John Bradley (Florence Briggs Th...</td>\n",
       "      <td>female</td>\n",
       "      <td>38.0</td>\n",
       "      <td>1</td>\n",
       "      <td>0</td>\n",
       "      <td>PC 17599</td>\n",
       "      <td>71.2833</td>\n",
       "      <td>C85</td>\n",
       "      <td>C</td>\n",
       "    </tr>\n",
       "    <tr>\n",
       "      <th>2</th>\n",
       "      <td>3</td>\n",
       "      <td>1</td>\n",
       "      <td>3</td>\n",
       "      <td>Heikkinen, Miss. Laina</td>\n",
       "      <td>female</td>\n",
       "      <td>26.0</td>\n",
       "      <td>0</td>\n",
       "      <td>0</td>\n",
       "      <td>STON/O2. 3101282</td>\n",
       "      <td>7.9250</td>\n",
       "      <td>NaN</td>\n",
       "      <td>S</td>\n",
       "    </tr>\n",
       "    <tr>\n",
       "      <th>3</th>\n",
       "      <td>4</td>\n",
       "      <td>1</td>\n",
       "      <td>1</td>\n",
       "      <td>Futrelle, Mrs. Jacques Heath (Lily May Peel)</td>\n",
       "      <td>female</td>\n",
       "      <td>35.0</td>\n",
       "      <td>1</td>\n",
       "      <td>0</td>\n",
       "      <td>113803</td>\n",
       "      <td>53.1000</td>\n",
       "      <td>C123</td>\n",
       "      <td>S</td>\n",
       "    </tr>\n",
       "    <tr>\n",
       "      <th>4</th>\n",
       "      <td>5</td>\n",
       "      <td>0</td>\n",
       "      <td>3</td>\n",
       "      <td>Allen, Mr. William Henry</td>\n",
       "      <td>male</td>\n",
       "      <td>35.0</td>\n",
       "      <td>0</td>\n",
       "      <td>0</td>\n",
       "      <td>373450</td>\n",
       "      <td>8.0500</td>\n",
       "      <td>NaN</td>\n",
       "      <td>S</td>\n",
       "    </tr>\n",
       "    <tr>\n",
       "      <th>5</th>\n",
       "      <td>6</td>\n",
       "      <td>0</td>\n",
       "      <td>3</td>\n",
       "      <td>Moran, Mr. James</td>\n",
       "      <td>male</td>\n",
       "      <td>NaN</td>\n",
       "      <td>0</td>\n",
       "      <td>0</td>\n",
       "      <td>330877</td>\n",
       "      <td>8.4583</td>\n",
       "      <td>NaN</td>\n",
       "      <td>Q</td>\n",
       "    </tr>\n",
       "    <tr>\n",
       "      <th>6</th>\n",
       "      <td>7</td>\n",
       "      <td>0</td>\n",
       "      <td>1</td>\n",
       "      <td>McCarthy, Mr. Timothy J</td>\n",
       "      <td>male</td>\n",
       "      <td>54.0</td>\n",
       "      <td>0</td>\n",
       "      <td>0</td>\n",
       "      <td>17463</td>\n",
       "      <td>51.8625</td>\n",
       "      <td>E46</td>\n",
       "      <td>S</td>\n",
       "    </tr>\n",
       "    <tr>\n",
       "      <th>7</th>\n",
       "      <td>8</td>\n",
       "      <td>0</td>\n",
       "      <td>3</td>\n",
       "      <td>Palsson, Master. Gosta Leonard</td>\n",
       "      <td>male</td>\n",
       "      <td>2.0</td>\n",
       "      <td>3</td>\n",
       "      <td>1</td>\n",
       "      <td>349909</td>\n",
       "      <td>21.0750</td>\n",
       "      <td>NaN</td>\n",
       "      <td>S</td>\n",
       "    </tr>\n",
       "    <tr>\n",
       "      <th>8</th>\n",
       "      <td>9</td>\n",
       "      <td>1</td>\n",
       "      <td>3</td>\n",
       "      <td>Johnson, Mrs. Oscar W (Elisabeth Vilhelmina Berg)</td>\n",
       "      <td>female</td>\n",
       "      <td>27.0</td>\n",
       "      <td>0</td>\n",
       "      <td>2</td>\n",
       "      <td>347742</td>\n",
       "      <td>11.1333</td>\n",
       "      <td>NaN</td>\n",
       "      <td>S</td>\n",
       "    </tr>\n",
       "    <tr>\n",
       "      <th>9</th>\n",
       "      <td>10</td>\n",
       "      <td>1</td>\n",
       "      <td>2</td>\n",
       "      <td>Nasser, Mrs. Nicholas (Adele Achem)</td>\n",
       "      <td>female</td>\n",
       "      <td>14.0</td>\n",
       "      <td>1</td>\n",
       "      <td>0</td>\n",
       "      <td>237736</td>\n",
       "      <td>30.0708</td>\n",
       "      <td>NaN</td>\n",
       "      <td>C</td>\n",
       "    </tr>\n",
       "  </tbody>\n",
       "</table>\n",
       "</div>"
      ],
      "text/plain": [
       "   PassengerId  Survived  Pclass  \\\n",
       "0            1         0       3   \n",
       "1            2         1       1   \n",
       "2            3         1       3   \n",
       "3            4         1       1   \n",
       "4            5         0       3   \n",
       "5            6         0       3   \n",
       "6            7         0       1   \n",
       "7            8         0       3   \n",
       "8            9         1       3   \n",
       "9           10         1       2   \n",
       "\n",
       "                                                Name     Sex   Age  SibSp  \\\n",
       "0                            Braund, Mr. Owen Harris    male  22.0      1   \n",
       "1  Cumings, Mrs. John Bradley (Florence Briggs Th...  female  38.0      1   \n",
       "2                             Heikkinen, Miss. Laina  female  26.0      0   \n",
       "3       Futrelle, Mrs. Jacques Heath (Lily May Peel)  female  35.0      1   \n",
       "4                           Allen, Mr. William Henry    male  35.0      0   \n",
       "5                                   Moran, Mr. James    male   NaN      0   \n",
       "6                            McCarthy, Mr. Timothy J    male  54.0      0   \n",
       "7                     Palsson, Master. Gosta Leonard    male   2.0      3   \n",
       "8  Johnson, Mrs. Oscar W (Elisabeth Vilhelmina Berg)  female  27.0      0   \n",
       "9                Nasser, Mrs. Nicholas (Adele Achem)  female  14.0      1   \n",
       "\n",
       "   Parch            Ticket     Fare Cabin Embarked  \n",
       "0      0         A/5 21171   7.2500   NaN        S  \n",
       "1      0          PC 17599  71.2833   C85        C  \n",
       "2      0  STON/O2. 3101282   7.9250   NaN        S  \n",
       "3      0            113803  53.1000  C123        S  \n",
       "4      0            373450   8.0500   NaN        S  \n",
       "5      0            330877   8.4583   NaN        Q  \n",
       "6      0             17463  51.8625   E46        S  \n",
       "7      1            349909  21.0750   NaN        S  \n",
       "8      2            347742  11.1333   NaN        S  \n",
       "9      0            237736  30.0708   NaN        C  "
      ]
     },
     "execution_count": 8,
     "metadata": {},
     "output_type": "execute_result"
    }
   ],
   "source": [
    "train.head(10)"
   ]
  },
  {
   "cell_type": "code",
   "execution_count": 9,
   "id": "00172210",
   "metadata": {
    "execution": {
     "iopub.execute_input": "2022-07-23T17:44:46.952125Z",
     "iopub.status.busy": "2022-07-23T17:44:46.951148Z",
     "iopub.status.idle": "2022-07-23T17:44:46.983574Z",
     "shell.execute_reply": "2022-07-23T17:44:46.982806Z"
    },
    "papermill": {
     "duration": 0.053248,
     "end_time": "2022-07-23T17:44:46.985928",
     "exception": false,
     "start_time": "2022-07-23T17:44:46.932680",
     "status": "completed"
    },
    "tags": []
   },
   "outputs": [
    {
     "data": {
      "text/html": [
       "<div>\n",
       "<style scoped>\n",
       "    .dataframe tbody tr th:only-of-type {\n",
       "        vertical-align: middle;\n",
       "    }\n",
       "\n",
       "    .dataframe tbody tr th {\n",
       "        vertical-align: top;\n",
       "    }\n",
       "\n",
       "    .dataframe thead th {\n",
       "        text-align: right;\n",
       "    }\n",
       "</style>\n",
       "<table border=\"1\" class=\"dataframe\">\n",
       "  <thead>\n",
       "    <tr style=\"text-align: right;\">\n",
       "      <th></th>\n",
       "      <th>PassengerId</th>\n",
       "      <th>Survived</th>\n",
       "      <th>Pclass</th>\n",
       "      <th>Age</th>\n",
       "      <th>SibSp</th>\n",
       "      <th>Parch</th>\n",
       "      <th>Fare</th>\n",
       "    </tr>\n",
       "  </thead>\n",
       "  <tbody>\n",
       "    <tr>\n",
       "      <th>count</th>\n",
       "      <td>891.000000</td>\n",
       "      <td>891.000000</td>\n",
       "      <td>891.000000</td>\n",
       "      <td>714.000000</td>\n",
       "      <td>891.000000</td>\n",
       "      <td>891.000000</td>\n",
       "      <td>891.000000</td>\n",
       "    </tr>\n",
       "    <tr>\n",
       "      <th>mean</th>\n",
       "      <td>446.000000</td>\n",
       "      <td>0.383838</td>\n",
       "      <td>2.308642</td>\n",
       "      <td>29.699118</td>\n",
       "      <td>0.523008</td>\n",
       "      <td>0.381594</td>\n",
       "      <td>32.204208</td>\n",
       "    </tr>\n",
       "    <tr>\n",
       "      <th>std</th>\n",
       "      <td>257.353842</td>\n",
       "      <td>0.486592</td>\n",
       "      <td>0.836071</td>\n",
       "      <td>14.526497</td>\n",
       "      <td>1.102743</td>\n",
       "      <td>0.806057</td>\n",
       "      <td>49.693429</td>\n",
       "    </tr>\n",
       "    <tr>\n",
       "      <th>min</th>\n",
       "      <td>1.000000</td>\n",
       "      <td>0.000000</td>\n",
       "      <td>1.000000</td>\n",
       "      <td>0.420000</td>\n",
       "      <td>0.000000</td>\n",
       "      <td>0.000000</td>\n",
       "      <td>0.000000</td>\n",
       "    </tr>\n",
       "    <tr>\n",
       "      <th>25%</th>\n",
       "      <td>223.500000</td>\n",
       "      <td>0.000000</td>\n",
       "      <td>2.000000</td>\n",
       "      <td>20.125000</td>\n",
       "      <td>0.000000</td>\n",
       "      <td>0.000000</td>\n",
       "      <td>7.910400</td>\n",
       "    </tr>\n",
       "    <tr>\n",
       "      <th>50%</th>\n",
       "      <td>446.000000</td>\n",
       "      <td>0.000000</td>\n",
       "      <td>3.000000</td>\n",
       "      <td>28.000000</td>\n",
       "      <td>0.000000</td>\n",
       "      <td>0.000000</td>\n",
       "      <td>14.454200</td>\n",
       "    </tr>\n",
       "    <tr>\n",
       "      <th>75%</th>\n",
       "      <td>668.500000</td>\n",
       "      <td>1.000000</td>\n",
       "      <td>3.000000</td>\n",
       "      <td>38.000000</td>\n",
       "      <td>1.000000</td>\n",
       "      <td>0.000000</td>\n",
       "      <td>31.000000</td>\n",
       "    </tr>\n",
       "    <tr>\n",
       "      <th>max</th>\n",
       "      <td>891.000000</td>\n",
       "      <td>1.000000</td>\n",
       "      <td>3.000000</td>\n",
       "      <td>80.000000</td>\n",
       "      <td>8.000000</td>\n",
       "      <td>6.000000</td>\n",
       "      <td>512.329200</td>\n",
       "    </tr>\n",
       "  </tbody>\n",
       "</table>\n",
       "</div>"
      ],
      "text/plain": [
       "       PassengerId    Survived      Pclass         Age       SibSp  \\\n",
       "count   891.000000  891.000000  891.000000  714.000000  891.000000   \n",
       "mean    446.000000    0.383838    2.308642   29.699118    0.523008   \n",
       "std     257.353842    0.486592    0.836071   14.526497    1.102743   \n",
       "min       1.000000    0.000000    1.000000    0.420000    0.000000   \n",
       "25%     223.500000    0.000000    2.000000   20.125000    0.000000   \n",
       "50%     446.000000    0.000000    3.000000   28.000000    0.000000   \n",
       "75%     668.500000    1.000000    3.000000   38.000000    1.000000   \n",
       "max     891.000000    1.000000    3.000000   80.000000    8.000000   \n",
       "\n",
       "            Parch        Fare  \n",
       "count  891.000000  891.000000  \n",
       "mean     0.381594   32.204208  \n",
       "std      0.806057   49.693429  \n",
       "min      0.000000    0.000000  \n",
       "25%      0.000000    7.910400  \n",
       "50%      0.000000   14.454200  \n",
       "75%      0.000000   31.000000  \n",
       "max      6.000000  512.329200  "
      ]
     },
     "execution_count": 9,
     "metadata": {},
     "output_type": "execute_result"
    }
   ],
   "source": [
    "train.describe()"
   ]
  },
  {
   "cell_type": "code",
   "execution_count": 10,
   "id": "ed301850",
   "metadata": {
    "execution": {
     "iopub.execute_input": "2022-07-23T17:44:47.021581Z",
     "iopub.status.busy": "2022-07-23T17:44:47.021209Z",
     "iopub.status.idle": "2022-07-23T17:44:47.051166Z",
     "shell.execute_reply": "2022-07-23T17:44:47.050290Z"
    },
    "papermill": {
     "duration": 0.050592,
     "end_time": "2022-07-23T17:44:47.053602",
     "exception": false,
     "start_time": "2022-07-23T17:44:47.003010",
     "status": "completed"
    },
    "tags": []
   },
   "outputs": [
    {
     "data": {
      "text/html": [
       "<div>\n",
       "<style scoped>\n",
       "    .dataframe tbody tr th:only-of-type {\n",
       "        vertical-align: middle;\n",
       "    }\n",
       "\n",
       "    .dataframe tbody tr th {\n",
       "        vertical-align: top;\n",
       "    }\n",
       "\n",
       "    .dataframe thead th {\n",
       "        text-align: right;\n",
       "    }\n",
       "</style>\n",
       "<table border=\"1\" class=\"dataframe\">\n",
       "  <thead>\n",
       "    <tr style=\"text-align: right;\">\n",
       "      <th></th>\n",
       "      <th>PassengerId</th>\n",
       "      <th>Pclass</th>\n",
       "      <th>Age</th>\n",
       "      <th>SibSp</th>\n",
       "      <th>Parch</th>\n",
       "      <th>Fare</th>\n",
       "    </tr>\n",
       "  </thead>\n",
       "  <tbody>\n",
       "    <tr>\n",
       "      <th>count</th>\n",
       "      <td>418.000000</td>\n",
       "      <td>418.000000</td>\n",
       "      <td>332.000000</td>\n",
       "      <td>418.000000</td>\n",
       "      <td>418.000000</td>\n",
       "      <td>417.000000</td>\n",
       "    </tr>\n",
       "    <tr>\n",
       "      <th>mean</th>\n",
       "      <td>1100.500000</td>\n",
       "      <td>2.265550</td>\n",
       "      <td>30.272590</td>\n",
       "      <td>0.447368</td>\n",
       "      <td>0.392344</td>\n",
       "      <td>35.627188</td>\n",
       "    </tr>\n",
       "    <tr>\n",
       "      <th>std</th>\n",
       "      <td>120.810458</td>\n",
       "      <td>0.841838</td>\n",
       "      <td>14.181209</td>\n",
       "      <td>0.896760</td>\n",
       "      <td>0.981429</td>\n",
       "      <td>55.907576</td>\n",
       "    </tr>\n",
       "    <tr>\n",
       "      <th>min</th>\n",
       "      <td>892.000000</td>\n",
       "      <td>1.000000</td>\n",
       "      <td>0.170000</td>\n",
       "      <td>0.000000</td>\n",
       "      <td>0.000000</td>\n",
       "      <td>0.000000</td>\n",
       "    </tr>\n",
       "    <tr>\n",
       "      <th>25%</th>\n",
       "      <td>996.250000</td>\n",
       "      <td>1.000000</td>\n",
       "      <td>21.000000</td>\n",
       "      <td>0.000000</td>\n",
       "      <td>0.000000</td>\n",
       "      <td>7.895800</td>\n",
       "    </tr>\n",
       "    <tr>\n",
       "      <th>50%</th>\n",
       "      <td>1100.500000</td>\n",
       "      <td>3.000000</td>\n",
       "      <td>27.000000</td>\n",
       "      <td>0.000000</td>\n",
       "      <td>0.000000</td>\n",
       "      <td>14.454200</td>\n",
       "    </tr>\n",
       "    <tr>\n",
       "      <th>75%</th>\n",
       "      <td>1204.750000</td>\n",
       "      <td>3.000000</td>\n",
       "      <td>39.000000</td>\n",
       "      <td>1.000000</td>\n",
       "      <td>0.000000</td>\n",
       "      <td>31.500000</td>\n",
       "    </tr>\n",
       "    <tr>\n",
       "      <th>max</th>\n",
       "      <td>1309.000000</td>\n",
       "      <td>3.000000</td>\n",
       "      <td>76.000000</td>\n",
       "      <td>8.000000</td>\n",
       "      <td>9.000000</td>\n",
       "      <td>512.329200</td>\n",
       "    </tr>\n",
       "  </tbody>\n",
       "</table>\n",
       "</div>"
      ],
      "text/plain": [
       "       PassengerId      Pclass         Age       SibSp       Parch        Fare\n",
       "count   418.000000  418.000000  332.000000  418.000000  418.000000  417.000000\n",
       "mean   1100.500000    2.265550   30.272590    0.447368    0.392344   35.627188\n",
       "std     120.810458    0.841838   14.181209    0.896760    0.981429   55.907576\n",
       "min     892.000000    1.000000    0.170000    0.000000    0.000000    0.000000\n",
       "25%     996.250000    1.000000   21.000000    0.000000    0.000000    7.895800\n",
       "50%    1100.500000    3.000000   27.000000    0.000000    0.000000   14.454200\n",
       "75%    1204.750000    3.000000   39.000000    1.000000    0.000000   31.500000\n",
       "max    1309.000000    3.000000   76.000000    8.000000    9.000000  512.329200"
      ]
     },
     "execution_count": 10,
     "metadata": {},
     "output_type": "execute_result"
    }
   ],
   "source": [
    "test.describe()"
   ]
  },
  {
   "cell_type": "code",
   "execution_count": 11,
   "id": "d7647e36",
   "metadata": {
    "execution": {
     "iopub.execute_input": "2022-07-23T17:44:47.090825Z",
     "iopub.status.busy": "2022-07-23T17:44:47.089782Z",
     "iopub.status.idle": "2022-07-23T17:44:47.099063Z",
     "shell.execute_reply": "2022-07-23T17:44:47.098301Z"
    },
    "papermill": {
     "duration": 0.030073,
     "end_time": "2022-07-23T17:44:47.101052",
     "exception": false,
     "start_time": "2022-07-23T17:44:47.070979",
     "status": "completed"
    },
    "tags": []
   },
   "outputs": [
    {
     "data": {
      "text/plain": [
       "PassengerId      0\n",
       "Survived         0\n",
       "Pclass           0\n",
       "Name             0\n",
       "Sex              0\n",
       "Age            177\n",
       "SibSp            0\n",
       "Parch            0\n",
       "Ticket           0\n",
       "Fare             0\n",
       "Cabin          687\n",
       "Embarked         2\n",
       "dtype: int64"
      ]
     },
     "execution_count": 11,
     "metadata": {},
     "output_type": "execute_result"
    }
   ],
   "source": [
    "train.isnull().sum()"
   ]
  },
  {
   "cell_type": "code",
   "execution_count": 12,
   "id": "cec52e93",
   "metadata": {
    "execution": {
     "iopub.execute_input": "2022-07-23T17:44:47.138631Z",
     "iopub.status.busy": "2022-07-23T17:44:47.138183Z",
     "iopub.status.idle": "2022-07-23T17:44:47.156966Z",
     "shell.execute_reply": "2022-07-23T17:44:47.156125Z"
    },
    "papermill": {
     "duration": 0.040446,
     "end_time": "2022-07-23T17:44:47.159017",
     "exception": false,
     "start_time": "2022-07-23T17:44:47.118571",
     "status": "completed"
    },
    "tags": []
   },
   "outputs": [
    {
     "data": {
      "text/html": [
       "<div>\n",
       "<style scoped>\n",
       "    .dataframe tbody tr th:only-of-type {\n",
       "        vertical-align: middle;\n",
       "    }\n",
       "\n",
       "    .dataframe tbody tr th {\n",
       "        vertical-align: top;\n",
       "    }\n",
       "\n",
       "    .dataframe thead th {\n",
       "        text-align: right;\n",
       "    }\n",
       "</style>\n",
       "<table border=\"1\" class=\"dataframe\">\n",
       "  <thead>\n",
       "    <tr style=\"text-align: right;\">\n",
       "      <th></th>\n",
       "      <th>PassengerId</th>\n",
       "      <th>Pclass</th>\n",
       "      <th>Name</th>\n",
       "      <th>Sex</th>\n",
       "      <th>Age</th>\n",
       "      <th>SibSp</th>\n",
       "      <th>Parch</th>\n",
       "      <th>Ticket</th>\n",
       "      <th>Fare</th>\n",
       "      <th>Cabin</th>\n",
       "      <th>Embarked</th>\n",
       "      <th>Survived</th>\n",
       "    </tr>\n",
       "  </thead>\n",
       "  <tbody>\n",
       "    <tr>\n",
       "      <th>0</th>\n",
       "      <td>892</td>\n",
       "      <td>3</td>\n",
       "      <td>Kelly, Mr. James</td>\n",
       "      <td>male</td>\n",
       "      <td>34.5</td>\n",
       "      <td>0</td>\n",
       "      <td>0</td>\n",
       "      <td>330911</td>\n",
       "      <td>7.8292</td>\n",
       "      <td>NaN</td>\n",
       "      <td>Q</td>\n",
       "      <td></td>\n",
       "    </tr>\n",
       "    <tr>\n",
       "      <th>1</th>\n",
       "      <td>893</td>\n",
       "      <td>3</td>\n",
       "      <td>Wilkes, Mrs. James (Ellen Needs)</td>\n",
       "      <td>female</td>\n",
       "      <td>47.0</td>\n",
       "      <td>1</td>\n",
       "      <td>0</td>\n",
       "      <td>363272</td>\n",
       "      <td>7.0000</td>\n",
       "      <td>NaN</td>\n",
       "      <td>S</td>\n",
       "      <td></td>\n",
       "    </tr>\n",
       "    <tr>\n",
       "      <th>2</th>\n",
       "      <td>894</td>\n",
       "      <td>2</td>\n",
       "      <td>Myles, Mr. Thomas Francis</td>\n",
       "      <td>male</td>\n",
       "      <td>62.0</td>\n",
       "      <td>0</td>\n",
       "      <td>0</td>\n",
       "      <td>240276</td>\n",
       "      <td>9.6875</td>\n",
       "      <td>NaN</td>\n",
       "      <td>Q</td>\n",
       "      <td></td>\n",
       "    </tr>\n",
       "    <tr>\n",
       "      <th>3</th>\n",
       "      <td>895</td>\n",
       "      <td>3</td>\n",
       "      <td>Wirz, Mr. Albert</td>\n",
       "      <td>male</td>\n",
       "      <td>27.0</td>\n",
       "      <td>0</td>\n",
       "      <td>0</td>\n",
       "      <td>315154</td>\n",
       "      <td>8.6625</td>\n",
       "      <td>NaN</td>\n",
       "      <td>S</td>\n",
       "      <td></td>\n",
       "    </tr>\n",
       "    <tr>\n",
       "      <th>4</th>\n",
       "      <td>896</td>\n",
       "      <td>3</td>\n",
       "      <td>Hirvonen, Mrs. Alexander (Helga E Lindqvist)</td>\n",
       "      <td>female</td>\n",
       "      <td>22.0</td>\n",
       "      <td>1</td>\n",
       "      <td>1</td>\n",
       "      <td>3101298</td>\n",
       "      <td>12.2875</td>\n",
       "      <td>NaN</td>\n",
       "      <td>S</td>\n",
       "      <td></td>\n",
       "    </tr>\n",
       "  </tbody>\n",
       "</table>\n",
       "</div>"
      ],
      "text/plain": [
       "   PassengerId  Pclass                                          Name     Sex  \\\n",
       "0          892       3                              Kelly, Mr. James    male   \n",
       "1          893       3              Wilkes, Mrs. James (Ellen Needs)  female   \n",
       "2          894       2                     Myles, Mr. Thomas Francis    male   \n",
       "3          895       3                              Wirz, Mr. Albert    male   \n",
       "4          896       3  Hirvonen, Mrs. Alexander (Helga E Lindqvist)  female   \n",
       "\n",
       "    Age  SibSp  Parch   Ticket     Fare Cabin Embarked Survived  \n",
       "0  34.5      0      0   330911   7.8292   NaN        Q           \n",
       "1  47.0      1      0   363272   7.0000   NaN        S           \n",
       "2  62.0      0      0   240276   9.6875   NaN        Q           \n",
       "3  27.0      0      0   315154   8.6625   NaN        S           \n",
       "4  22.0      1      1  3101298  12.2875   NaN        S           "
      ]
     },
     "execution_count": 12,
     "metadata": {},
     "output_type": "execute_result"
    }
   ],
   "source": [
    "test.isnull().sum()\n",
    "test[\"Survived\"] = \"\"\n",
    "test.head()"
   ]
  },
  {
   "cell_type": "code",
   "execution_count": 13,
   "id": "2baf93b5",
   "metadata": {
    "execution": {
     "iopub.execute_input": "2022-07-23T17:44:47.197020Z",
     "iopub.status.busy": "2022-07-23T17:44:47.196309Z",
     "iopub.status.idle": "2022-07-23T17:44:47.202335Z",
     "shell.execute_reply": "2022-07-23T17:44:47.201547Z"
    },
    "papermill": {
     "duration": 0.027587,
     "end_time": "2022-07-23T17:44:47.204433",
     "exception": false,
     "start_time": "2022-07-23T17:44:47.176846",
     "status": "completed"
    },
    "tags": []
   },
   "outputs": [],
   "source": [
    "# Create table for missing data analysis\n",
    "def find_missing_data(data):\n",
    "    Total = data.isnull().sum().sort_values(ascending = False)\n",
    "    Percentage = (data.isnull().sum()/data.isnull().count()).sort_values(ascending = False)\n",
    "    \n",
    "    return pd.concat([Total,Percentage] , axis = 1 , keys = ['Total' , 'Percent'])"
   ]
  },
  {
   "cell_type": "code",
   "execution_count": 14,
   "id": "c55ce40f",
   "metadata": {
    "execution": {
     "iopub.execute_input": "2022-07-23T17:44:47.241923Z",
     "iopub.status.busy": "2022-07-23T17:44:47.241204Z",
     "iopub.status.idle": "2022-07-23T17:44:47.257845Z",
     "shell.execute_reply": "2022-07-23T17:44:47.256719Z"
    },
    "papermill": {
     "duration": 0.037908,
     "end_time": "2022-07-23T17:44:47.260059",
     "exception": false,
     "start_time": "2022-07-23T17:44:47.222151",
     "status": "completed"
    },
    "tags": []
   },
   "outputs": [
    {
     "data": {
      "text/html": [
       "<div>\n",
       "<style scoped>\n",
       "    .dataframe tbody tr th:only-of-type {\n",
       "        vertical-align: middle;\n",
       "    }\n",
       "\n",
       "    .dataframe tbody tr th {\n",
       "        vertical-align: top;\n",
       "    }\n",
       "\n",
       "    .dataframe thead th {\n",
       "        text-align: right;\n",
       "    }\n",
       "</style>\n",
       "<table border=\"1\" class=\"dataframe\">\n",
       "  <thead>\n",
       "    <tr style=\"text-align: right;\">\n",
       "      <th></th>\n",
       "      <th>Total</th>\n",
       "      <th>Percent</th>\n",
       "    </tr>\n",
       "  </thead>\n",
       "  <tbody>\n",
       "    <tr>\n",
       "      <th>Cabin</th>\n",
       "      <td>687</td>\n",
       "      <td>0.771044</td>\n",
       "    </tr>\n",
       "    <tr>\n",
       "      <th>Age</th>\n",
       "      <td>177</td>\n",
       "      <td>0.198653</td>\n",
       "    </tr>\n",
       "    <tr>\n",
       "      <th>Embarked</th>\n",
       "      <td>2</td>\n",
       "      <td>0.002245</td>\n",
       "    </tr>\n",
       "    <tr>\n",
       "      <th>PassengerId</th>\n",
       "      <td>0</td>\n",
       "      <td>0.000000</td>\n",
       "    </tr>\n",
       "    <tr>\n",
       "      <th>Survived</th>\n",
       "      <td>0</td>\n",
       "      <td>0.000000</td>\n",
       "    </tr>\n",
       "    <tr>\n",
       "      <th>Pclass</th>\n",
       "      <td>0</td>\n",
       "      <td>0.000000</td>\n",
       "    </tr>\n",
       "    <tr>\n",
       "      <th>Name</th>\n",
       "      <td>0</td>\n",
       "      <td>0.000000</td>\n",
       "    </tr>\n",
       "    <tr>\n",
       "      <th>Sex</th>\n",
       "      <td>0</td>\n",
       "      <td>0.000000</td>\n",
       "    </tr>\n",
       "    <tr>\n",
       "      <th>SibSp</th>\n",
       "      <td>0</td>\n",
       "      <td>0.000000</td>\n",
       "    </tr>\n",
       "    <tr>\n",
       "      <th>Parch</th>\n",
       "      <td>0</td>\n",
       "      <td>0.000000</td>\n",
       "    </tr>\n",
       "    <tr>\n",
       "      <th>Ticket</th>\n",
       "      <td>0</td>\n",
       "      <td>0.000000</td>\n",
       "    </tr>\n",
       "    <tr>\n",
       "      <th>Fare</th>\n",
       "      <td>0</td>\n",
       "      <td>0.000000</td>\n",
       "    </tr>\n",
       "  </tbody>\n",
       "</table>\n",
       "</div>"
      ],
      "text/plain": [
       "             Total   Percent\n",
       "Cabin          687  0.771044\n",
       "Age            177  0.198653\n",
       "Embarked         2  0.002245\n",
       "PassengerId      0  0.000000\n",
       "Survived         0  0.000000\n",
       "Pclass           0  0.000000\n",
       "Name             0  0.000000\n",
       "Sex              0  0.000000\n",
       "SibSp            0  0.000000\n",
       "Parch            0  0.000000\n",
       "Ticket           0  0.000000\n",
       "Fare             0  0.000000"
      ]
     },
     "execution_count": 14,
     "metadata": {},
     "output_type": "execute_result"
    }
   ],
   "source": [
    "find_missing_data(train)"
   ]
  },
  {
   "cell_type": "code",
   "execution_count": 15,
   "id": "85314c84",
   "metadata": {
    "execution": {
     "iopub.execute_input": "2022-07-23T17:44:47.299336Z",
     "iopub.status.busy": "2022-07-23T17:44:47.298156Z",
     "iopub.status.idle": "2022-07-23T17:44:47.563003Z",
     "shell.execute_reply": "2022-07-23T17:44:47.562237Z"
    },
    "papermill": {
     "duration": 0.286828,
     "end_time": "2022-07-23T17:44:47.564996",
     "exception": false,
     "start_time": "2022-07-23T17:44:47.278168",
     "status": "completed"
    },
    "tags": []
   },
   "outputs": [
    {
     "data": {
      "text/plain": [
       "<AxesSubplot:>"
      ]
     },
     "execution_count": 15,
     "metadata": {},
     "output_type": "execute_result"
    },
    {
     "data": {
      "image/png": "[encoded data removed]",
      "text/plain": [
       "<Figure size 432x288 with 1 Axes>"
      ]
     },
     "metadata": {},
     "output_type": "display_data"
    }
   ],
   "source": [
    "# checking only train set - visualize\n",
    "sns.heatmap(train.isnull(), cbar = False , \n",
    "            yticklabels = False , cmap = 'PiYG')"
   ]
  },
  {
   "cell_type": "code",
   "execution_count": 16,
   "id": "82687d34",
   "metadata": {
    "execution": {
     "iopub.execute_input": "2022-07-23T17:44:47.603710Z",
     "iopub.status.busy": "2022-07-23T17:44:47.603303Z",
     "iopub.status.idle": "2022-07-23T17:44:47.919207Z",
     "shell.execute_reply": "2022-07-23T17:44:47.918048Z"
    },
    "papermill": {
     "duration": 0.338236,
     "end_time": "2022-07-23T17:44:47.921858",
     "exception": false,
     "start_time": "2022-07-23T17:44:47.583622",
     "status": "completed"
    },
    "tags": []
   },
   "outputs": [
    {
     "data": {
      "image/png": "[encoded data removed]",
      "text/plain": [
       "<Figure size 432x288 with 2 Axes>"
      ]
     },
     "metadata": {},
     "output_type": "display_data"
    }
   ],
   "source": [
    "# Correlation matrix between numerical values (SibSp Parch Age and Fare values) and Survived \n",
    "corr_numeric = sns.heatmap(train[[\"Survived\",\"SibSp\",\"Parch\",\"Age\",\"Fare\"]].corr(),\n",
    "                           annot=True, fmt = \".1f\", cmap = \"viridis\")"
   ]
  },
  {
   "cell_type": "code",
   "execution_count": 17,
   "id": "35e4cc85",
   "metadata": {
    "execution": {
     "iopub.execute_input": "2022-07-23T17:44:47.961839Z",
     "iopub.status.busy": "2022-07-23T17:44:47.961081Z",
     "iopub.status.idle": "2022-07-23T17:44:47.967781Z",
     "shell.execute_reply": "2022-07-23T17:44:47.966942Z"
    },
    "papermill": {
     "duration": 0.029003,
     "end_time": "2022-07-23T17:44:47.969768",
     "exception": false,
     "start_time": "2022-07-23T17:44:47.940765",
     "status": "completed"
    },
    "tags": []
   },
   "outputs": [],
   "source": [
    "def bar_chart(feature):\n",
    "    survived = train[train['Survived']==1][feature].value_counts()\n",
    "    dead = train[train['Survived']==0][feature].value_counts()\n",
    "    df = pd.DataFrame([survived,dead])\n",
    "    df.index = ['Survived','Dead']\n",
    "    df.plot(kind='bar',stacked=True, figsize=(10,5))"
   ]
  },
  {
   "cell_type": "code",
   "execution_count": 18,
   "id": "57137b0a",
   "metadata": {
    "execution": {
     "iopub.execute_input": "2022-07-23T17:44:48.010892Z",
     "iopub.status.busy": "2022-07-23T17:44:48.010215Z",
     "iopub.status.idle": "2022-07-23T17:44:48.247536Z",
     "shell.execute_reply": "2022-07-23T17:44:48.246197Z"
    },
    "papermill": {
     "duration": 0.260666,
     "end_time": "2022-07-23T17:44:48.250179",
     "exception": false,
     "start_time": "2022-07-23T17:44:47.989513",
     "status": "completed"
    },
    "tags": []
   },
   "outputs": [
    {
     "name": "stdout",
     "output_type": "stream",
     "text": [
      "Survived :\n",
      " female    233\n",
      "male      109\n",
      "Name: Sex, dtype: int64\n",
      "Dead:\n",
      " male      468\n",
      "female     81\n",
      "Name: Sex, dtype: int64\n"
     ]
    },
    {
     "data": {
      "image/png": "[encoded data removed]",
      "text/plain": [
       "<Figure size 720x360 with 1 Axes>"
      ]
     },
     "metadata": {},
     "output_type": "display_data"
    }
   ],
   "source": [
    "bar_chart('Sex')\n",
    "print(\"Survived :\\n\",train[train['Survived']==1]['Sex'].value_counts())\n",
    "print(\"Dead:\\n\",train[train['Survived']==0]['Sex'].value_counts())\n"
   ]
  },
  {
   "cell_type": "code",
   "execution_count": 19,
   "id": "37b46da1",
   "metadata": {
    "execution": {
     "iopub.execute_input": "2022-07-23T17:44:48.291426Z",
     "iopub.status.busy": "2022-07-23T17:44:48.290414Z",
     "iopub.status.idle": "2022-07-23T17:44:48.958956Z",
     "shell.execute_reply": "2022-07-23T17:44:48.957787Z"
    },
    "papermill": {
     "duration": 0.691662,
     "end_time": "2022-07-23T17:44:48.961424",
     "exception": false,
     "start_time": "2022-07-23T17:44:48.269762",
     "status": "completed"
    },
    "tags": []
   },
   "outputs": [
    {
     "name": "stderr",
     "output_type": "stream",
     "text": [
      "/opt/conda/lib/python3.7/site-packages/seaborn/distributions.py:2619: FutureWarning: `distplot` is a deprecated function and will be removed in a future version. Please adapt your code to use either `displot` (a figure-level function with similar flexibility) or `histplot` (an axes-level function for histograms).\n",
      "  warnings.warn(msg, FutureWarning)\n"
     ]
    },
    {
     "data": {
      "image/png": "[encoded data removed]",
      "text/plain": [
       "<Figure size 720x288 with 2 Axes>"
      ]
     },
     "metadata": {},
     "output_type": "display_data"
    }
   ],
   "source": [
    "survived = 'survived'\n",
    "not_survived = 'not survived'\n",
    "fig, axes = plt.subplots(nrows=1, ncols=2,figsize=(10, 4))\n",
    "women = train[train['Sex']=='female']\n",
    "men = train[train['Sex']=='male']\n",
    "ax = sns.distplot(women[women['Survived']==1].Age.dropna(), bins=18, label = survived, ax = axes[0], kde =False)\n",
    "ax = sns.distplot(women[women['Survived']==0].Age.dropna(), bins=40, label = not_survived, ax = axes[0], kde =False)\n",
    "ax.legend()\n",
    "ax.set_title('Female')\n",
    "ax = sns.distplot(men[men['Survived']==1].Age.dropna(), bins=18, label = survived, ax = axes[1], kde = False)\n",
    "ax = sns.distplot(men[men['Survived']==0].Age.dropna(), bins=40, label = not_survived, ax = axes[1], kde = False)\n",
    "ax.legend()\n",
    "_ = ax.set_title('Male')"
   ]
  },
  {
   "cell_type": "code",
   "execution_count": 20,
   "id": "3475a2dc",
   "metadata": {
    "execution": {
     "iopub.execute_input": "2022-07-23T17:44:49.002683Z",
     "iopub.status.busy": "2022-07-23T17:44:49.002300Z",
     "iopub.status.idle": "2022-07-23T17:44:50.327297Z",
     "shell.execute_reply": "2022-07-23T17:44:50.326039Z"
    },
    "papermill": {
     "duration": 1.348559,
     "end_time": "2022-07-23T17:44:50.329759",
     "exception": false,
     "start_time": "2022-07-23T17:44:48.981200",
     "status": "completed"
    },
    "tags": []
   },
   "outputs": [
    {
     "name": "stderr",
     "output_type": "stream",
     "text": [
      "/opt/conda/lib/python3.7/site-packages/seaborn/axisgrid.py:337: UserWarning: The `size` parameter has been renamed to `height`; please update your code.\n",
      "  warnings.warn(msg, UserWarning)\n"
     ]
    },
    {
     "data": {
      "text/plain": [
       "<seaborn.axisgrid.FacetGrid at 0x7ffaa7b6b590>"
      ]
     },
     "execution_count": 20,
     "metadata": {},
     "output_type": "execute_result"
    },
    {
     "data": {
      "image/png": "[encoded data removed]",
      "text/plain": [
       "<Figure size 596.375x972 with 3 Axes>"
      ]
     },
     "metadata": {},
     "output_type": "display_data"
    }
   ],
   "source": [
    "FacetGrid = sns.FacetGrid(train, row='Embarked', size=4.5, aspect=1.6)\n",
    "FacetGrid.map(sns.pointplot, 'Pclass', 'Survived', 'Sex', palette=None,  order=None, hue_order=None )\n",
    "FacetGrid.add_legend()"
   ]
  },
  {
   "cell_type": "code",
   "execution_count": 21,
   "id": "9323ab40",
   "metadata": {
    "execution": {
     "iopub.execute_input": "2022-07-23T17:44:50.373512Z",
     "iopub.status.busy": "2022-07-23T17:44:50.373097Z",
     "iopub.status.idle": "2022-07-23T17:44:50.885704Z",
     "shell.execute_reply": "2022-07-23T17:44:50.884582Z"
    },
    "papermill": {
     "duration": 0.537645,
     "end_time": "2022-07-23T17:44:50.888343",
     "exception": false,
     "start_time": "2022-07-23T17:44:50.350698",
     "status": "completed"
    },
    "tags": []
   },
   "outputs": [
    {
     "data": {
      "text/plain": [
       "<seaborn.axisgrid.FacetGrid at 0x7ffaa7b0bfd0>"
      ]
     },
     "execution_count": 21,
     "metadata": {},
     "output_type": "execute_result"
    },
    {
     "data": {
      "image/png": "[encoded data removed]",
      "text/plain": [
       "<Figure size 1357.55x216 with 1 Axes>"
      ]
     },
     "metadata": {},
     "output_type": "display_data"
    }
   ],
   "source": [
    "fig = sns.FacetGrid(train, hue = 'Survived', aspect = 6)\n",
    "fig.map(sns.kdeplot, 'Age' , shade = False)\n",
    "fig.set(xlim = (5, train['Age'].max()))\n",
    "fig.add_legend()"
   ]
  },
  {
   "cell_type": "code",
   "execution_count": 22,
   "id": "18a5f1b1",
   "metadata": {
    "execution": {
     "iopub.execute_input": "2022-07-23T17:44:50.934848Z",
     "iopub.status.busy": "2022-07-23T17:44:50.933706Z",
     "iopub.status.idle": "2022-07-23T17:44:51.249604Z",
     "shell.execute_reply": "2022-07-23T17:44:51.248693Z"
    },
    "papermill": {
     "duration": 0.341638,
     "end_time": "2022-07-23T17:44:51.251927",
     "exception": false,
     "start_time": "2022-07-23T17:44:50.910289",
     "status": "completed"
    },
    "tags": []
   },
   "outputs": [
    {
     "name": "stderr",
     "output_type": "stream",
     "text": [
      "/opt/conda/lib/python3.7/site-packages/seaborn/categorical.py:3717: UserWarning: The `factorplot` function has been renamed to `catplot`. The original name will be removed in a future release. Please update your code. Note that the default `kind` in `factorplot` (`'point'`) has changed `'strip'` in `catplot`.\n",
      "  warnings.warn(msg)\n"
     ]
    },
    {
     "data": {
      "image/png": "[encoded data removed]",
      "text/plain": [
       "<Figure size 360x360 with 1 Axes>"
      ]
     },
     "metadata": {},
     "output_type": "display_data"
    }
   ],
   "source": [
    "AS = sns.factorplot(y=\"Age\", x=\"Sex\", data = train, kind=\"box\")"
   ]
  },
  {
   "cell_type": "code",
   "execution_count": 23,
   "id": "8eb03a28",
   "metadata": {
    "execution": {
     "iopub.execute_input": "2022-07-23T17:44:51.298122Z",
     "iopub.status.busy": "2022-07-23T17:44:51.297392Z",
     "iopub.status.idle": "2022-07-23T17:44:51.956282Z",
     "shell.execute_reply": "2022-07-23T17:44:51.955048Z"
    },
    "papermill": {
     "duration": 0.684794,
     "end_time": "2022-07-23T17:44:51.958950",
     "exception": false,
     "start_time": "2022-07-23T17:44:51.274156",
     "status": "completed"
    },
    "tags": []
   },
   "outputs": [
    {
     "data": {
      "image/png": "[encoded data removed]",
      "text/plain": [
       "<Figure size 910.6x216 with 1 Axes>"
      ]
     },
     "metadata": {},
     "output_type": "display_data"
    }
   ],
   "source": [
    "facet = sns.FacetGrid(train, hue=\"Pclass\", aspect=4)\n",
    "facet.map(sns.kdeplot,'Age',shade= False)\n",
    "facet.set(xlim=(0, train['Age'].max()))\n",
    "facet.add_legend()\n",
    "plt.show()"
   ]
  },
  {
   "cell_type": "code",
   "execution_count": 24,
   "id": "75bae473",
   "metadata": {
    "execution": {
     "iopub.execute_input": "2022-07-23T17:44:52.006502Z",
     "iopub.status.busy": "2022-07-23T17:44:52.006069Z",
     "iopub.status.idle": "2022-07-23T17:44:52.343959Z",
     "shell.execute_reply": "2022-07-23T17:44:52.342915Z"
    },
    "papermill": {
     "duration": 0.36428,
     "end_time": "2022-07-23T17:44:52.346152",
     "exception": false,
     "start_time": "2022-07-23T17:44:51.981872",
     "status": "completed"
    },
    "tags": []
   },
   "outputs": [
    {
     "name": "stderr",
     "output_type": "stream",
     "text": [
      "/opt/conda/lib/python3.7/site-packages/seaborn/categorical.py:3717: UserWarning: The `factorplot` function has been renamed to `catplot`. The original name will be removed in a future release. Please update your code. Note that the default `kind` in `factorplot` (`'point'`) has changed `'strip'` in `catplot`.\n",
      "  warnings.warn(msg)\n"
     ]
    },
    {
     "data": {
      "image/png": "[encoded data removed]",
      "text/plain": [
       "<Figure size 360x360 with 1 Axes>"
      ]
     },
     "metadata": {},
     "output_type": "display_data"
    }
   ],
   "source": [
    "PA = sns.factorplot(data = train , x = 'Pclass' , y = 'Age', kind = 'box')"
   ]
  },
  {
   "cell_type": "code",
   "execution_count": 25,
   "id": "73173062",
   "metadata": {
    "execution": {
     "iopub.execute_input": "2022-07-23T17:44:52.394218Z",
     "iopub.status.busy": "2022-07-23T17:44:52.393483Z",
     "iopub.status.idle": "2022-07-23T17:44:52.627796Z",
     "shell.execute_reply": "2022-07-23T17:44:52.626600Z"
    },
    "papermill": {
     "duration": 0.261332,
     "end_time": "2022-07-23T17:44:52.630353",
     "exception": false,
     "start_time": "2022-07-23T17:44:52.369021",
     "status": "completed"
    },
    "tags": []
   },
   "outputs": [
    {
     "data": {
      "text/plain": [
       "<AxesSubplot:>"
      ]
     },
     "execution_count": 25,
     "metadata": {},
     "output_type": "execute_result"
    },
    {
     "data": {
      "image/png": "[encoded data removed]",
      "text/plain": [
       "<Figure size 432x288 with 1 Axes>"
      ]
     },
     "metadata": {},
     "output_type": "display_data"
    }
   ],
   "source": [
    "sns.heatmap(train.isnull(), yticklabels = False, cbar = False, cmap = 'summer')"
   ]
  },
  {
   "cell_type": "code",
   "execution_count": 26,
   "id": "dc47e08f",
   "metadata": {
    "execution": {
     "iopub.execute_input": "2022-07-23T17:44:52.679231Z",
     "iopub.status.busy": "2022-07-23T17:44:52.678807Z",
     "iopub.status.idle": "2022-07-23T17:44:53.264102Z",
     "shell.execute_reply": "2022-07-23T17:44:53.262963Z"
    },
    "papermill": {
     "duration": 0.612784,
     "end_time": "2022-07-23T17:44:53.266509",
     "exception": false,
     "start_time": "2022-07-23T17:44:52.653725",
     "status": "completed"
    },
    "tags": []
   },
   "outputs": [
    {
     "name": "stderr",
     "output_type": "stream",
     "text": [
      "/opt/conda/lib/python3.7/site-packages/seaborn/categorical.py:3717: UserWarning: The `factorplot` function has been renamed to `catplot`. The original name will be removed in a future release. Please update your code. Note that the default `kind` in `factorplot` (`'point'`) has changed `'strip'` in `catplot`.\n",
      "  warnings.warn(msg)\n",
      "/opt/conda/lib/python3.7/site-packages/seaborn/categorical.py:3723: UserWarning: The `size` parameter has been renamed to `height`; please update your code.\n",
      "  warnings.warn(msg, UserWarning)\n"
     ]
    },
    {
     "data": {
      "image/png": "[encoded data removed]",
      "text/plain": [
       "<Figure size 509.975x432 with 1 Axes>"
      ]
     },
     "metadata": {},
     "output_type": "display_data"
    }
   ],
   "source": [
    "Survived_Pcalss = sns.factorplot(x=\"Pclass\", y=\"Survived\", \n",
    "                                 hue=\"Sex\", data=train,size=6, \n",
    "                                 kind=\"bar\", palette=\"BuGn_r\")\n",
    "Survived_Pcalss.despine(left=True)\n",
    "Survived_Pcalss = Survived_Pcalss.set_ylabels(\"survival probability\")"
   ]
  },
  {
   "cell_type": "code",
   "execution_count": 27,
   "id": "9b3e350d",
   "metadata": {
    "execution": {
     "iopub.execute_input": "2022-07-23T17:44:53.315621Z",
     "iopub.status.busy": "2022-07-23T17:44:53.314839Z",
     "iopub.status.idle": "2022-07-23T17:44:53.484204Z",
     "shell.execute_reply": "2022-07-23T17:44:53.482302Z"
    },
    "papermill": {
     "duration": 0.197103,
     "end_time": "2022-07-23T17:44:53.487011",
     "exception": false,
     "start_time": "2022-07-23T17:44:53.289908",
     "status": "completed"
    },
    "tags": []
   },
   "outputs": [
    {
     "name": "stdout",
     "output_type": "stream",
     "text": [
      "Survived :\n",
      " 1    136\n",
      "3    119\n",
      "2     87\n",
      "Name: Pclass, dtype: int64\n",
      "Dead:\n",
      " 3    372\n",
      "2     97\n",
      "1     80\n",
      "Name: Pclass, dtype: int64\n"
     ]
    },
    {
     "data": {
      "image/png": "[encoded data removed]",
      "text/plain": [
       "<Figure size 720x360 with 1 Axes>"
      ]
     },
     "metadata": {},
     "output_type": "display_data"
    }
   ],
   "source": [
    "bar_chart('Pclass')\n",
    "print(\"Survived :\\n\",train[train['Survived']==1]['Pclass'].value_counts())\n",
    "print(\"Dead:\\n\",train[train['Survived']==0]['Pclass'].value_counts())"
   ]
  },
  {
   "cell_type": "code",
   "execution_count": 28,
   "id": "5678b3b7",
   "metadata": {
    "execution": {
     "iopub.execute_input": "2022-07-23T17:44:53.537526Z",
     "iopub.status.busy": "2022-07-23T17:44:53.536402Z",
     "iopub.status.idle": "2022-07-23T17:44:53.742091Z",
     "shell.execute_reply": "2022-07-23T17:44:53.740100Z"
    },
    "papermill": {
     "duration": 0.234105,
     "end_time": "2022-07-23T17:44:53.744911",
     "exception": false,
     "start_time": "2022-07-23T17:44:53.510806",
     "status": "completed"
    },
    "tags": []
   },
   "outputs": [
    {
     "name": "stdout",
     "output_type": "stream",
     "text": [
      "Survived :\n",
      " 0    210\n",
      "1    112\n",
      "2     13\n",
      "3      4\n",
      "4      3\n",
      "Name: SibSp, dtype: int64\n",
      "Dead:\n",
      " 0    398\n",
      "1     97\n",
      "4     15\n",
      "2     15\n",
      "3     12\n",
      "8      7\n",
      "5      5\n",
      "Name: SibSp, dtype: int64\n"
     ]
    },
    {
     "data": {
      "image/png": "[encoded data removed]",
      "text/plain": [
       "<Figure size 720x360 with 1 Axes>"
      ]
     },
     "metadata": {},
     "output_type": "display_data"
    }
   ],
   "source": [
    "bar_chart('SibSp')\n",
    "print(\"Survived :\\n\",train[train['Survived']==1]['SibSp'].value_counts())\n",
    "print(\"Dead:\\n\",train[train['Survived']==0]['SibSp'].value_counts())"
   ]
  },
  {
   "cell_type": "code",
   "execution_count": 29,
   "id": "a305c491",
   "metadata": {
    "execution": {
     "iopub.execute_input": "2022-07-23T17:44:53.796410Z",
     "iopub.status.busy": "2022-07-23T17:44:53.795706Z",
     "iopub.status.idle": "2022-07-23T17:44:54.004210Z",
     "shell.execute_reply": "2022-07-23T17:44:54.002936Z"
    },
    "papermill": {
     "duration": 0.237409,
     "end_time": "2022-07-23T17:44:54.006835",
     "exception": false,
     "start_time": "2022-07-23T17:44:53.769426",
     "status": "completed"
    },
    "tags": []
   },
   "outputs": [
    {
     "name": "stdout",
     "output_type": "stream",
     "text": [
      "Survived :\n",
      " 0    233\n",
      "1     65\n",
      "2     40\n",
      "3      3\n",
      "5      1\n",
      "Name: Parch, dtype: int64\n",
      "Dead:\n",
      " 0    445\n",
      "1     53\n",
      "2     40\n",
      "5      4\n",
      "4      4\n",
      "3      2\n",
      "6      1\n",
      "Name: Parch, dtype: int64\n"
     ]
    },
    {
     "data": {
      "image/png": "[encoded data removed]",
      "text/plain": [
       "<Figure size 720x360 with 1 Axes>"
      ]
     },
     "metadata": {},
     "output_type": "display_data"
    }
   ],
   "source": [
    "bar_chart('Parch')\n",
    "print(\"Survived :\\n\",train[train['Survived']==1]['Parch'].value_counts())\n",
    "print(\"Dead:\\n\",train[train['Survived']==0]['Parch'].value_counts())"
   ]
  },
  {
   "cell_type": "code",
   "execution_count": 30,
   "id": "6b37d496",
   "metadata": {
    "execution": {
     "iopub.execute_input": "2022-07-23T17:44:54.058981Z",
     "iopub.status.busy": "2022-07-23T17:44:54.057758Z",
     "iopub.status.idle": "2022-07-23T17:44:54.232589Z",
     "shell.execute_reply": "2022-07-23T17:44:54.231373Z"
    },
    "papermill": {
     "duration": 0.203597,
     "end_time": "2022-07-23T17:44:54.235076",
     "exception": false,
     "start_time": "2022-07-23T17:44:54.031479",
     "status": "completed"
    },
    "tags": []
   },
   "outputs": [
    {
     "name": "stdout",
     "output_type": "stream",
     "text": [
      "Survived :\n",
      " S    217\n",
      "C     93\n",
      "Q     30\n",
      "Name: Embarked, dtype: int64\n",
      "Dead:\n",
      " S    427\n",
      "C     75\n",
      "Q     47\n",
      "Name: Embarked, dtype: int64\n"
     ]
    },
    {
     "data": {
      "image/png": "[encoded data removed]",
      "text/plain": [
       "<Figure size 720x360 with 1 Axes>"
      ]
     },
     "metadata": {},
     "output_type": "display_data"
    }
   ],
   "source": [
    "bar_chart('Embarked')\n",
    "print(\"Survived :\\n\",train[train['Survived']==1]['Embarked'].value_counts())\n",
    "print(\"Dead:\\n\",train[train['Survived']==0]['Embarked'].value_counts())"
   ]
  },
  {
   "cell_type": "code",
   "execution_count": 31,
   "id": "a652a06e",
   "metadata": {
    "execution": {
     "iopub.execute_input": "2022-07-23T17:44:54.287702Z",
     "iopub.status.busy": "2022-07-23T17:44:54.287033Z",
     "iopub.status.idle": "2022-07-23T17:44:54.296849Z",
     "shell.execute_reply": "2022-07-23T17:44:54.295623Z"
    },
    "papermill": {
     "duration": 0.038984,
     "end_time": "2022-07-23T17:44:54.299479",
     "exception": false,
     "start_time": "2022-07-23T17:44:54.260495",
     "status": "completed"
    },
    "tags": []
   },
   "outputs": [],
   "source": [
    "train_test_data = [train,test] # combine dataset\n",
    "\n",
    "for train in train_test_data:\n",
    "    train['Title'] = train['Name'].str.extract(' ([A-Za-z]+)\\.', expand=False)\n",
    "\n"
   ]
  },
  {
   "cell_type": "code",
   "execution_count": 32,
   "id": "36360489",
   "metadata": {
    "execution": {
     "iopub.execute_input": "2022-07-23T17:44:54.351905Z",
     "iopub.status.busy": "2022-07-23T17:44:54.351174Z",
     "iopub.status.idle": "2022-07-23T17:44:54.362228Z",
     "shell.execute_reply": "2022-07-23T17:44:54.361232Z"
    },
    "papermill": {
     "duration": 0.039706,
     "end_time": "2022-07-23T17:44:54.364304",
     "exception": false,
     "start_time": "2022-07-23T17:44:54.324598",
     "status": "completed"
    },
    "tags": []
   },
   "outputs": [
    {
     "data": {
      "text/plain": [
       "Mr        240\n",
       "Miss       78\n",
       "Mrs        72\n",
       "Master     21\n",
       "Col         2\n",
       "Rev         2\n",
       "Ms          1\n",
       "Dr          1\n",
       "Dona        1\n",
       "Name: Title, dtype: int64"
      ]
     },
     "execution_count": 32,
     "metadata": {},
     "output_type": "execute_result"
    }
   ],
   "source": [
    "sex_mapping = {\"male\": 0, \"female\": 1}\n",
    "for train in train_test_data:\n",
    "    train['Sex'] = train['Sex'].map(sex_mapping)\n",
    "\n",
    "train['Title'].value_counts()"
   ]
  },
  {
   "cell_type": "code",
   "execution_count": 33,
   "id": "8a6b5892",
   "metadata": {
    "execution": {
     "iopub.execute_input": "2022-07-23T17:44:54.416661Z",
     "iopub.status.busy": "2022-07-23T17:44:54.415940Z",
     "iopub.status.idle": "2022-07-23T17:44:55.247742Z",
     "shell.execute_reply": "2022-07-23T17:44:55.246357Z"
    },
    "papermill": {
     "duration": 0.861602,
     "end_time": "2022-07-23T17:44:55.251161",
     "exception": false,
     "start_time": "2022-07-23T17:44:54.389559",
     "status": "completed"
    },
    "tags": []
   },
   "outputs": [
    {
     "data": {
      "image/png": "[encoded data removed]",
      "text/plain": [
       "<Figure size 925.55x216 with 1 Axes>"
      ]
     },
     "metadata": {},
     "output_type": "display_data"
    },
    {
     "data": {
      "text/plain": [
       "(10.0, 50.0)"
      ]
     },
     "execution_count": 33,
     "metadata": {},
     "output_type": "execute_result"
    },
    {
     "data": {
      "image/png": "[encoded data removed]",
      "text/plain": [
       "<Figure size 925.55x216 with 1 Axes>"
      ]
     },
     "metadata": {},
     "output_type": "display_data"
    }
   ],
   "source": [
    "facet = sns.FacetGrid(train, hue=\"Survived\",aspect=4)\n",
    "facet.map(sns.kdeplot,'Age',shade= True)\n",
    "facet.set(xlim=(0, train['Age'].max()))\n",
    "facet.add_legend() \n",
    "plt.show()\n",
    "\n",
    "facet = sns.FacetGrid(train, hue=\"Survived\",aspect=4)\n",
    "facet.map(sns.kdeplot,'Age',shade= True)\n",
    "facet.set(xlim=(0, train['Age'].max()))\n",
    "facet.add_legend() \n",
    "plt.xlim(10,50)"
   ]
  },
  {
   "cell_type": "code",
   "execution_count": 34,
   "id": "5b25c504",
   "metadata": {
    "execution": {
     "iopub.execute_input": "2022-07-23T17:44:55.313755Z",
     "iopub.status.busy": "2022-07-23T17:44:55.312481Z",
     "iopub.status.idle": "2022-07-23T17:44:55.333134Z",
     "shell.execute_reply": "2022-07-23T17:44:55.331567Z"
    },
    "papermill": {
     "duration": 0.051319,
     "end_time": "2022-07-23T17:44:55.335363",
     "exception": false,
     "start_time": "2022-07-23T17:44:55.284044",
     "status": "completed"
    },
    "tags": []
   },
   "outputs": [
    {
     "name": "stdout",
     "output_type": "stream",
     "text": [
      "<class 'pandas.core.frame.DataFrame'>\n",
      "RangeIndex: 418 entries, 0 to 417\n",
      "Data columns (total 13 columns):\n",
      " #   Column       Non-Null Count  Dtype  \n",
      "---  ------       --------------  -----  \n",
      " 0   PassengerId  418 non-null    int64  \n",
      " 1   Pclass       418 non-null    int64  \n",
      " 2   Name         418 non-null    object \n",
      " 3   Sex          418 non-null    int64  \n",
      " 4   Age          332 non-null    float64\n",
      " 5   SibSp        418 non-null    int64  \n",
      " 6   Parch        418 non-null    int64  \n",
      " 7   Ticket       418 non-null    object \n",
      " 8   Fare         417 non-null    float64\n",
      " 9   Cabin        91 non-null     object \n",
      " 10  Embarked     418 non-null    object \n",
      " 11  Survived     418 non-null    object \n",
      " 12  Title        418 non-null    object \n",
      "dtypes: float64(2), int64(5), object(6)\n",
      "memory usage: 42.6+ KB\n",
      "<class 'pandas.core.frame.DataFrame'>\n",
      "RangeIndex: 418 entries, 0 to 417\n",
      "Data columns (total 13 columns):\n",
      " #   Column       Non-Null Count  Dtype  \n",
      "---  ------       --------------  -----  \n",
      " 0   PassengerId  418 non-null    int64  \n",
      " 1   Pclass       418 non-null    int64  \n",
      " 2   Name         418 non-null    object \n",
      " 3   Sex          418 non-null    int64  \n",
      " 4   Age          332 non-null    float64\n",
      " 5   SibSp        418 non-null    int64  \n",
      " 6   Parch        418 non-null    int64  \n",
      " 7   Ticket       418 non-null    object \n",
      " 8   Fare         417 non-null    float64\n",
      " 9   Cabin        91 non-null     object \n",
      " 10  Embarked     418 non-null    object \n",
      " 11  Survived     418 non-null    object \n",
      " 12  Title        418 non-null    object \n",
      "dtypes: float64(2), int64(5), object(6)\n",
      "memory usage: 42.6+ KB\n"
     ]
    }
   ],
   "source": [
    "train.info()\n",
    "test.info()"
   ]
  },
  {
   "cell_type": "code",
   "execution_count": 35,
   "id": "7bc475d7",
   "metadata": {
    "execution": {
     "iopub.execute_input": "2022-07-23T17:44:55.389230Z",
     "iopub.status.busy": "2022-07-23T17:44:55.388483Z",
     "iopub.status.idle": "2022-07-23T17:44:55.426305Z",
     "shell.execute_reply": "2022-07-23T17:44:55.425425Z"
    },
    "papermill": {
     "duration": 0.066957,
     "end_time": "2022-07-23T17:44:55.428313",
     "exception": false,
     "start_time": "2022-07-23T17:44:55.361356",
     "status": "completed"
    },
    "tags": []
   },
   "outputs": [
    {
     "data": {
      "text/html": [
       "<div>\n",
       "<style scoped>\n",
       "    .dataframe tbody tr th:only-of-type {\n",
       "        vertical-align: middle;\n",
       "    }\n",
       "\n",
       "    .dataframe tbody tr th {\n",
       "        vertical-align: top;\n",
       "    }\n",
       "\n",
       "    .dataframe thead th {\n",
       "        text-align: right;\n",
       "    }\n",
       "</style>\n",
       "<table border=\"1\" class=\"dataframe\">\n",
       "  <thead>\n",
       "    <tr style=\"text-align: right;\">\n",
       "      <th></th>\n",
       "      <th>PassengerId</th>\n",
       "      <th>Pclass</th>\n",
       "      <th>Name</th>\n",
       "      <th>Sex</th>\n",
       "      <th>Age</th>\n",
       "      <th>SibSp</th>\n",
       "      <th>Parch</th>\n",
       "      <th>Ticket</th>\n",
       "      <th>Fare</th>\n",
       "      <th>Cabin</th>\n",
       "      <th>Embarked</th>\n",
       "      <th>Survived</th>\n",
       "      <th>Title</th>\n",
       "    </tr>\n",
       "  </thead>\n",
       "  <tbody>\n",
       "    <tr>\n",
       "      <th>0</th>\n",
       "      <td>892</td>\n",
       "      <td>3</td>\n",
       "      <td>Kelly, Mr. James</td>\n",
       "      <td>0</td>\n",
       "      <td>34.5</td>\n",
       "      <td>0</td>\n",
       "      <td>0</td>\n",
       "      <td>330911</td>\n",
       "      <td>7.8292</td>\n",
       "      <td>NaN</td>\n",
       "      <td>Q</td>\n",
       "      <td></td>\n",
       "      <td>Mr</td>\n",
       "    </tr>\n",
       "    <tr>\n",
       "      <th>1</th>\n",
       "      <td>893</td>\n",
       "      <td>3</td>\n",
       "      <td>Wilkes, Mrs. James (Ellen Needs)</td>\n",
       "      <td>1</td>\n",
       "      <td>47.0</td>\n",
       "      <td>1</td>\n",
       "      <td>0</td>\n",
       "      <td>363272</td>\n",
       "      <td>7.0000</td>\n",
       "      <td>NaN</td>\n",
       "      <td>S</td>\n",
       "      <td></td>\n",
       "      <td>Mrs</td>\n",
       "    </tr>\n",
       "    <tr>\n",
       "      <th>2</th>\n",
       "      <td>894</td>\n",
       "      <td>2</td>\n",
       "      <td>Myles, Mr. Thomas Francis</td>\n",
       "      <td>0</td>\n",
       "      <td>62.0</td>\n",
       "      <td>0</td>\n",
       "      <td>0</td>\n",
       "      <td>240276</td>\n",
       "      <td>9.6875</td>\n",
       "      <td>NaN</td>\n",
       "      <td>Q</td>\n",
       "      <td></td>\n",
       "      <td>Mr</td>\n",
       "    </tr>\n",
       "    <tr>\n",
       "      <th>3</th>\n",
       "      <td>895</td>\n",
       "      <td>3</td>\n",
       "      <td>Wirz, Mr. Albert</td>\n",
       "      <td>0</td>\n",
       "      <td>27.0</td>\n",
       "      <td>0</td>\n",
       "      <td>0</td>\n",
       "      <td>315154</td>\n",
       "      <td>8.6625</td>\n",
       "      <td>NaN</td>\n",
       "      <td>S</td>\n",
       "      <td></td>\n",
       "      <td>Mr</td>\n",
       "    </tr>\n",
       "    <tr>\n",
       "      <th>4</th>\n",
       "      <td>896</td>\n",
       "      <td>3</td>\n",
       "      <td>Hirvonen, Mrs. Alexander (Helga E Lindqvist)</td>\n",
       "      <td>1</td>\n",
       "      <td>22.0</td>\n",
       "      <td>1</td>\n",
       "      <td>1</td>\n",
       "      <td>3101298</td>\n",
       "      <td>12.2875</td>\n",
       "      <td>NaN</td>\n",
       "      <td>S</td>\n",
       "      <td></td>\n",
       "      <td>Mrs</td>\n",
       "    </tr>\n",
       "    <tr>\n",
       "      <th>5</th>\n",
       "      <td>897</td>\n",
       "      <td>3</td>\n",
       "      <td>Svensson, Mr. Johan Cervin</td>\n",
       "      <td>0</td>\n",
       "      <td>14.0</td>\n",
       "      <td>0</td>\n",
       "      <td>0</td>\n",
       "      <td>7538</td>\n",
       "      <td>9.2250</td>\n",
       "      <td>NaN</td>\n",
       "      <td>S</td>\n",
       "      <td></td>\n",
       "      <td>Mr</td>\n",
       "    </tr>\n",
       "    <tr>\n",
       "      <th>6</th>\n",
       "      <td>898</td>\n",
       "      <td>3</td>\n",
       "      <td>Connolly, Miss. Kate</td>\n",
       "      <td>1</td>\n",
       "      <td>30.0</td>\n",
       "      <td>0</td>\n",
       "      <td>0</td>\n",
       "      <td>330972</td>\n",
       "      <td>7.6292</td>\n",
       "      <td>NaN</td>\n",
       "      <td>Q</td>\n",
       "      <td></td>\n",
       "      <td>Miss</td>\n",
       "    </tr>\n",
       "    <tr>\n",
       "      <th>7</th>\n",
       "      <td>899</td>\n",
       "      <td>2</td>\n",
       "      <td>Caldwell, Mr. Albert Francis</td>\n",
       "      <td>0</td>\n",
       "      <td>26.0</td>\n",
       "      <td>1</td>\n",
       "      <td>1</td>\n",
       "      <td>248738</td>\n",
       "      <td>29.0000</td>\n",
       "      <td>NaN</td>\n",
       "      <td>S</td>\n",
       "      <td></td>\n",
       "      <td>Mr</td>\n",
       "    </tr>\n",
       "    <tr>\n",
       "      <th>8</th>\n",
       "      <td>900</td>\n",
       "      <td>3</td>\n",
       "      <td>Abrahim, Mrs. Joseph (Sophie Halaut Easu)</td>\n",
       "      <td>1</td>\n",
       "      <td>18.0</td>\n",
       "      <td>0</td>\n",
       "      <td>0</td>\n",
       "      <td>2657</td>\n",
       "      <td>7.2292</td>\n",
       "      <td>NaN</td>\n",
       "      <td>C</td>\n",
       "      <td></td>\n",
       "      <td>Mrs</td>\n",
       "    </tr>\n",
       "    <tr>\n",
       "      <th>9</th>\n",
       "      <td>901</td>\n",
       "      <td>3</td>\n",
       "      <td>Davies, Mr. John Samuel</td>\n",
       "      <td>0</td>\n",
       "      <td>21.0</td>\n",
       "      <td>2</td>\n",
       "      <td>0</td>\n",
       "      <td>A/4 48871</td>\n",
       "      <td>24.1500</td>\n",
       "      <td>NaN</td>\n",
       "      <td>S</td>\n",
       "      <td></td>\n",
       "      <td>Mr</td>\n",
       "    </tr>\n",
       "    <tr>\n",
       "      <th>10</th>\n",
       "      <td>902</td>\n",
       "      <td>3</td>\n",
       "      <td>Ilieff, Mr. Ylio</td>\n",
       "      <td>0</td>\n",
       "      <td>NaN</td>\n",
       "      <td>0</td>\n",
       "      <td>0</td>\n",
       "      <td>349220</td>\n",
       "      <td>7.8958</td>\n",
       "      <td>NaN</td>\n",
       "      <td>S</td>\n",
       "      <td></td>\n",
       "      <td>Mr</td>\n",
       "    </tr>\n",
       "    <tr>\n",
       "      <th>11</th>\n",
       "      <td>903</td>\n",
       "      <td>1</td>\n",
       "      <td>Jones, Mr. Charles Cresson</td>\n",
       "      <td>0</td>\n",
       "      <td>46.0</td>\n",
       "      <td>0</td>\n",
       "      <td>0</td>\n",
       "      <td>694</td>\n",
       "      <td>26.0000</td>\n",
       "      <td>NaN</td>\n",
       "      <td>S</td>\n",
       "      <td></td>\n",
       "      <td>Mr</td>\n",
       "    </tr>\n",
       "    <tr>\n",
       "      <th>12</th>\n",
       "      <td>904</td>\n",
       "      <td>1</td>\n",
       "      <td>Snyder, Mrs. John Pillsbury (Nelle Stevenson)</td>\n",
       "      <td>1</td>\n",
       "      <td>23.0</td>\n",
       "      <td>1</td>\n",
       "      <td>0</td>\n",
       "      <td>21228</td>\n",
       "      <td>82.2667</td>\n",
       "      <td>B45</td>\n",
       "      <td>S</td>\n",
       "      <td></td>\n",
       "      <td>Mrs</td>\n",
       "    </tr>\n",
       "    <tr>\n",
       "      <th>13</th>\n",
       "      <td>905</td>\n",
       "      <td>2</td>\n",
       "      <td>Howard, Mr. Benjamin</td>\n",
       "      <td>0</td>\n",
       "      <td>63.0</td>\n",
       "      <td>1</td>\n",
       "      <td>0</td>\n",
       "      <td>24065</td>\n",
       "      <td>26.0000</td>\n",
       "      <td>NaN</td>\n",
       "      <td>S</td>\n",
       "      <td></td>\n",
       "      <td>Mr</td>\n",
       "    </tr>\n",
       "    <tr>\n",
       "      <th>14</th>\n",
       "      <td>906</td>\n",
       "      <td>1</td>\n",
       "      <td>Chaffee, Mrs. Herbert Fuller (Carrie Constance...</td>\n",
       "      <td>1</td>\n",
       "      <td>47.0</td>\n",
       "      <td>1</td>\n",
       "      <td>0</td>\n",
       "      <td>W.E.P. 5734</td>\n",
       "      <td>61.1750</td>\n",
       "      <td>E31</td>\n",
       "      <td>S</td>\n",
       "      <td></td>\n",
       "      <td>Mrs</td>\n",
       "    </tr>\n",
       "    <tr>\n",
       "      <th>15</th>\n",
       "      <td>907</td>\n",
       "      <td>2</td>\n",
       "      <td>del Carlo, Mrs. Sebastiano (Argenia Genovesi)</td>\n",
       "      <td>1</td>\n",
       "      <td>24.0</td>\n",
       "      <td>1</td>\n",
       "      <td>0</td>\n",
       "      <td>SC/PARIS 2167</td>\n",
       "      <td>27.7208</td>\n",
       "      <td>NaN</td>\n",
       "      <td>C</td>\n",
       "      <td></td>\n",
       "      <td>Mrs</td>\n",
       "    </tr>\n",
       "    <tr>\n",
       "      <th>16</th>\n",
       "      <td>908</td>\n",
       "      <td>2</td>\n",
       "      <td>Keane, Mr. Daniel</td>\n",
       "      <td>0</td>\n",
       "      <td>35.0</td>\n",
       "      <td>0</td>\n",
       "      <td>0</td>\n",
       "      <td>233734</td>\n",
       "      <td>12.3500</td>\n",
       "      <td>NaN</td>\n",
       "      <td>Q</td>\n",
       "      <td></td>\n",
       "      <td>Mr</td>\n",
       "    </tr>\n",
       "    <tr>\n",
       "      <th>17</th>\n",
       "      <td>909</td>\n",
       "      <td>3</td>\n",
       "      <td>Assaf, Mr. Gerios</td>\n",
       "      <td>0</td>\n",
       "      <td>21.0</td>\n",
       "      <td>0</td>\n",
       "      <td>0</td>\n",
       "      <td>2692</td>\n",
       "      <td>7.2250</td>\n",
       "      <td>NaN</td>\n",
       "      <td>C</td>\n",
       "      <td></td>\n",
       "      <td>Mr</td>\n",
       "    </tr>\n",
       "    <tr>\n",
       "      <th>18</th>\n",
       "      <td>910</td>\n",
       "      <td>3</td>\n",
       "      <td>Ilmakangas, Miss. Ida Livija</td>\n",
       "      <td>1</td>\n",
       "      <td>27.0</td>\n",
       "      <td>1</td>\n",
       "      <td>0</td>\n",
       "      <td>STON/O2. 3101270</td>\n",
       "      <td>7.9250</td>\n",
       "      <td>NaN</td>\n",
       "      <td>S</td>\n",
       "      <td></td>\n",
       "      <td>Miss</td>\n",
       "    </tr>\n",
       "    <tr>\n",
       "      <th>19</th>\n",
       "      <td>911</td>\n",
       "      <td>3</td>\n",
       "      <td>Assaf Khalil, Mrs. Mariana (Miriam\")\"</td>\n",
       "      <td>1</td>\n",
       "      <td>45.0</td>\n",
       "      <td>0</td>\n",
       "      <td>0</td>\n",
       "      <td>2696</td>\n",
       "      <td>7.2250</td>\n",
       "      <td>NaN</td>\n",
       "      <td>C</td>\n",
       "      <td></td>\n",
       "      <td>Mrs</td>\n",
       "    </tr>\n",
       "    <tr>\n",
       "      <th>20</th>\n",
       "      <td>912</td>\n",
       "      <td>1</td>\n",
       "      <td>Rothschild, Mr. Martin</td>\n",
       "      <td>0</td>\n",
       "      <td>55.0</td>\n",
       "      <td>1</td>\n",
       "      <td>0</td>\n",
       "      <td>PC 17603</td>\n",
       "      <td>59.4000</td>\n",
       "      <td>NaN</td>\n",
       "      <td>C</td>\n",
       "      <td></td>\n",
       "      <td>Mr</td>\n",
       "    </tr>\n",
       "    <tr>\n",
       "      <th>21</th>\n",
       "      <td>913</td>\n",
       "      <td>3</td>\n",
       "      <td>Olsen, Master. Artur Karl</td>\n",
       "      <td>0</td>\n",
       "      <td>9.0</td>\n",
       "      <td>0</td>\n",
       "      <td>1</td>\n",
       "      <td>C 17368</td>\n",
       "      <td>3.1708</td>\n",
       "      <td>NaN</td>\n",
       "      <td>S</td>\n",
       "      <td></td>\n",
       "      <td>Master</td>\n",
       "    </tr>\n",
       "    <tr>\n",
       "      <th>22</th>\n",
       "      <td>914</td>\n",
       "      <td>1</td>\n",
       "      <td>Flegenheim, Mrs. Alfred (Antoinette)</td>\n",
       "      <td>1</td>\n",
       "      <td>NaN</td>\n",
       "      <td>0</td>\n",
       "      <td>0</td>\n",
       "      <td>PC 17598</td>\n",
       "      <td>31.6833</td>\n",
       "      <td>NaN</td>\n",
       "      <td>S</td>\n",
       "      <td></td>\n",
       "      <td>Mrs</td>\n",
       "    </tr>\n",
       "    <tr>\n",
       "      <th>23</th>\n",
       "      <td>915</td>\n",
       "      <td>1</td>\n",
       "      <td>Williams, Mr. Richard Norris II</td>\n",
       "      <td>0</td>\n",
       "      <td>21.0</td>\n",
       "      <td>0</td>\n",
       "      <td>1</td>\n",
       "      <td>PC 17597</td>\n",
       "      <td>61.3792</td>\n",
       "      <td>NaN</td>\n",
       "      <td>C</td>\n",
       "      <td></td>\n",
       "      <td>Mr</td>\n",
       "    </tr>\n",
       "    <tr>\n",
       "      <th>24</th>\n",
       "      <td>916</td>\n",
       "      <td>1</td>\n",
       "      <td>Ryerson, Mrs. Arthur Larned (Emily Maria Borie)</td>\n",
       "      <td>1</td>\n",
       "      <td>48.0</td>\n",
       "      <td>1</td>\n",
       "      <td>3</td>\n",
       "      <td>PC 17608</td>\n",
       "      <td>262.3750</td>\n",
       "      <td>B57 B59 B63 B66</td>\n",
       "      <td>C</td>\n",
       "      <td></td>\n",
       "      <td>Mrs</td>\n",
       "    </tr>\n",
       "    <tr>\n",
       "      <th>25</th>\n",
       "      <td>917</td>\n",
       "      <td>3</td>\n",
       "      <td>Robins, Mr. Alexander A</td>\n",
       "      <td>0</td>\n",
       "      <td>50.0</td>\n",
       "      <td>1</td>\n",
       "      <td>0</td>\n",
       "      <td>A/5. 3337</td>\n",
       "      <td>14.5000</td>\n",
       "      <td>NaN</td>\n",
       "      <td>S</td>\n",
       "      <td></td>\n",
       "      <td>Mr</td>\n",
       "    </tr>\n",
       "    <tr>\n",
       "      <th>26</th>\n",
       "      <td>918</td>\n",
       "      <td>1</td>\n",
       "      <td>Ostby, Miss. Helene Ragnhild</td>\n",
       "      <td>1</td>\n",
       "      <td>22.0</td>\n",
       "      <td>0</td>\n",
       "      <td>1</td>\n",
       "      <td>113509</td>\n",
       "      <td>61.9792</td>\n",
       "      <td>B36</td>\n",
       "      <td>C</td>\n",
       "      <td></td>\n",
       "      <td>Miss</td>\n",
       "    </tr>\n",
       "    <tr>\n",
       "      <th>27</th>\n",
       "      <td>919</td>\n",
       "      <td>3</td>\n",
       "      <td>Daher, Mr. Shedid</td>\n",
       "      <td>0</td>\n",
       "      <td>22.5</td>\n",
       "      <td>0</td>\n",
       "      <td>0</td>\n",
       "      <td>2698</td>\n",
       "      <td>7.2250</td>\n",
       "      <td>NaN</td>\n",
       "      <td>C</td>\n",
       "      <td></td>\n",
       "      <td>Mr</td>\n",
       "    </tr>\n",
       "    <tr>\n",
       "      <th>28</th>\n",
       "      <td>920</td>\n",
       "      <td>1</td>\n",
       "      <td>Brady, Mr. John Bertram</td>\n",
       "      <td>0</td>\n",
       "      <td>41.0</td>\n",
       "      <td>0</td>\n",
       "      <td>0</td>\n",
       "      <td>113054</td>\n",
       "      <td>30.5000</td>\n",
       "      <td>A21</td>\n",
       "      <td>S</td>\n",
       "      <td></td>\n",
       "      <td>Mr</td>\n",
       "    </tr>\n",
       "    <tr>\n",
       "      <th>29</th>\n",
       "      <td>921</td>\n",
       "      <td>3</td>\n",
       "      <td>Samaan, Mr. Elias</td>\n",
       "      <td>0</td>\n",
       "      <td>NaN</td>\n",
       "      <td>2</td>\n",
       "      <td>0</td>\n",
       "      <td>2662</td>\n",
       "      <td>21.6792</td>\n",
       "      <td>NaN</td>\n",
       "      <td>C</td>\n",
       "      <td></td>\n",
       "      <td>Mr</td>\n",
       "    </tr>\n",
       "    <tr>\n",
       "      <th>30</th>\n",
       "      <td>922</td>\n",
       "      <td>2</td>\n",
       "      <td>Louch, Mr. Charles Alexander</td>\n",
       "      <td>0</td>\n",
       "      <td>50.0</td>\n",
       "      <td>1</td>\n",
       "      <td>0</td>\n",
       "      <td>SC/AH 3085</td>\n",
       "      <td>26.0000</td>\n",
       "      <td>NaN</td>\n",
       "      <td>S</td>\n",
       "      <td></td>\n",
       "      <td>Mr</td>\n",
       "    </tr>\n",
       "    <tr>\n",
       "      <th>31</th>\n",
       "      <td>923</td>\n",
       "      <td>2</td>\n",
       "      <td>Jefferys, Mr. Clifford Thomas</td>\n",
       "      <td>0</td>\n",
       "      <td>24.0</td>\n",
       "      <td>2</td>\n",
       "      <td>0</td>\n",
       "      <td>C.A. 31029</td>\n",
       "      <td>31.5000</td>\n",
       "      <td>NaN</td>\n",
       "      <td>S</td>\n",
       "      <td></td>\n",
       "      <td>Mr</td>\n",
       "    </tr>\n",
       "    <tr>\n",
       "      <th>32</th>\n",
       "      <td>924</td>\n",
       "      <td>3</td>\n",
       "      <td>Dean, Mrs. Bertram (Eva Georgetta Light)</td>\n",
       "      <td>1</td>\n",
       "      <td>33.0</td>\n",
       "      <td>1</td>\n",
       "      <td>2</td>\n",
       "      <td>C.A. 2315</td>\n",
       "      <td>20.5750</td>\n",
       "      <td>NaN</td>\n",
       "      <td>S</td>\n",
       "      <td></td>\n",
       "      <td>Mrs</td>\n",
       "    </tr>\n",
       "    <tr>\n",
       "      <th>33</th>\n",
       "      <td>925</td>\n",
       "      <td>3</td>\n",
       "      <td>Johnston, Mrs. Andrew G (Elizabeth Lily\" Watson)\"</td>\n",
       "      <td>1</td>\n",
       "      <td>NaN</td>\n",
       "      <td>1</td>\n",
       "      <td>2</td>\n",
       "      <td>W./C. 6607</td>\n",
       "      <td>23.4500</td>\n",
       "      <td>NaN</td>\n",
       "      <td>S</td>\n",
       "      <td></td>\n",
       "      <td>Mrs</td>\n",
       "    </tr>\n",
       "    <tr>\n",
       "      <th>34</th>\n",
       "      <td>926</td>\n",
       "      <td>1</td>\n",
       "      <td>Mock, Mr. Philipp Edmund</td>\n",
       "      <td>0</td>\n",
       "      <td>30.0</td>\n",
       "      <td>1</td>\n",
       "      <td>0</td>\n",
       "      <td>13236</td>\n",
       "      <td>57.7500</td>\n",
       "      <td>C78</td>\n",
       "      <td>C</td>\n",
       "      <td></td>\n",
       "      <td>Mr</td>\n",
       "    </tr>\n",
       "    <tr>\n",
       "      <th>35</th>\n",
       "      <td>927</td>\n",
       "      <td>3</td>\n",
       "      <td>Katavelas, Mr. Vassilios (Catavelas Vassilios\")\"</td>\n",
       "      <td>0</td>\n",
       "      <td>18.5</td>\n",
       "      <td>0</td>\n",
       "      <td>0</td>\n",
       "      <td>2682</td>\n",
       "      <td>7.2292</td>\n",
       "      <td>NaN</td>\n",
       "      <td>C</td>\n",
       "      <td></td>\n",
       "      <td>Mr</td>\n",
       "    </tr>\n",
       "    <tr>\n",
       "      <th>36</th>\n",
       "      <td>928</td>\n",
       "      <td>3</td>\n",
       "      <td>Roth, Miss. Sarah A</td>\n",
       "      <td>1</td>\n",
       "      <td>NaN</td>\n",
       "      <td>0</td>\n",
       "      <td>0</td>\n",
       "      <td>342712</td>\n",
       "      <td>8.0500</td>\n",
       "      <td>NaN</td>\n",
       "      <td>S</td>\n",
       "      <td></td>\n",
       "      <td>Miss</td>\n",
       "    </tr>\n",
       "    <tr>\n",
       "      <th>37</th>\n",
       "      <td>929</td>\n",
       "      <td>3</td>\n",
       "      <td>Cacic, Miss. Manda</td>\n",
       "      <td>1</td>\n",
       "      <td>21.0</td>\n",
       "      <td>0</td>\n",
       "      <td>0</td>\n",
       "      <td>315087</td>\n",
       "      <td>8.6625</td>\n",
       "      <td>NaN</td>\n",
       "      <td>S</td>\n",
       "      <td></td>\n",
       "      <td>Miss</td>\n",
       "    </tr>\n",
       "    <tr>\n",
       "      <th>38</th>\n",
       "      <td>930</td>\n",
       "      <td>3</td>\n",
       "      <td>Sap, Mr. Julius</td>\n",
       "      <td>0</td>\n",
       "      <td>25.0</td>\n",
       "      <td>0</td>\n",
       "      <td>0</td>\n",
       "      <td>345768</td>\n",
       "      <td>9.5000</td>\n",
       "      <td>NaN</td>\n",
       "      <td>S</td>\n",
       "      <td></td>\n",
       "      <td>Mr</td>\n",
       "    </tr>\n",
       "    <tr>\n",
       "      <th>39</th>\n",
       "      <td>931</td>\n",
       "      <td>3</td>\n",
       "      <td>Hee, Mr. Ling</td>\n",
       "      <td>0</td>\n",
       "      <td>NaN</td>\n",
       "      <td>0</td>\n",
       "      <td>0</td>\n",
       "      <td>1601</td>\n",
       "      <td>56.4958</td>\n",
       "      <td>NaN</td>\n",
       "      <td>S</td>\n",
       "      <td></td>\n",
       "      <td>Mr</td>\n",
       "    </tr>\n",
       "    <tr>\n",
       "      <th>40</th>\n",
       "      <td>932</td>\n",
       "      <td>3</td>\n",
       "      <td>Karun, Mr. Franz</td>\n",
       "      <td>0</td>\n",
       "      <td>39.0</td>\n",
       "      <td>0</td>\n",
       "      <td>1</td>\n",
       "      <td>349256</td>\n",
       "      <td>13.4167</td>\n",
       "      <td>NaN</td>\n",
       "      <td>C</td>\n",
       "      <td></td>\n",
       "      <td>Mr</td>\n",
       "    </tr>\n",
       "    <tr>\n",
       "      <th>41</th>\n",
       "      <td>933</td>\n",
       "      <td>1</td>\n",
       "      <td>Franklin, Mr. Thomas Parham</td>\n",
       "      <td>0</td>\n",
       "      <td>NaN</td>\n",
       "      <td>0</td>\n",
       "      <td>0</td>\n",
       "      <td>113778</td>\n",
       "      <td>26.5500</td>\n",
       "      <td>D34</td>\n",
       "      <td>S</td>\n",
       "      <td></td>\n",
       "      <td>Mr</td>\n",
       "    </tr>\n",
       "    <tr>\n",
       "      <th>42</th>\n",
       "      <td>934</td>\n",
       "      <td>3</td>\n",
       "      <td>Goldsmith, Mr. Nathan</td>\n",
       "      <td>0</td>\n",
       "      <td>41.0</td>\n",
       "      <td>0</td>\n",
       "      <td>0</td>\n",
       "      <td>SOTON/O.Q. 3101263</td>\n",
       "      <td>7.8500</td>\n",
       "      <td>NaN</td>\n",
       "      <td>S</td>\n",
       "      <td></td>\n",
       "      <td>Mr</td>\n",
       "    </tr>\n",
       "    <tr>\n",
       "      <th>43</th>\n",
       "      <td>935</td>\n",
       "      <td>2</td>\n",
       "      <td>Corbett, Mrs. Walter H (Irene Colvin)</td>\n",
       "      <td>1</td>\n",
       "      <td>30.0</td>\n",
       "      <td>0</td>\n",
       "      <td>0</td>\n",
       "      <td>237249</td>\n",
       "      <td>13.0000</td>\n",
       "      <td>NaN</td>\n",
       "      <td>S</td>\n",
       "      <td></td>\n",
       "      <td>Mrs</td>\n",
       "    </tr>\n",
       "    <tr>\n",
       "      <th>44</th>\n",
       "      <td>936</td>\n",
       "      <td>1</td>\n",
       "      <td>Kimball, Mrs. Edwin Nelson Jr (Gertrude Parsons)</td>\n",
       "      <td>1</td>\n",
       "      <td>45.0</td>\n",
       "      <td>1</td>\n",
       "      <td>0</td>\n",
       "      <td>11753</td>\n",
       "      <td>52.5542</td>\n",
       "      <td>D19</td>\n",
       "      <td>S</td>\n",
       "      <td></td>\n",
       "      <td>Mrs</td>\n",
       "    </tr>\n",
       "    <tr>\n",
       "      <th>45</th>\n",
       "      <td>937</td>\n",
       "      <td>3</td>\n",
       "      <td>Peltomaki, Mr. Nikolai Johannes</td>\n",
       "      <td>0</td>\n",
       "      <td>25.0</td>\n",
       "      <td>0</td>\n",
       "      <td>0</td>\n",
       "      <td>STON/O 2. 3101291</td>\n",
       "      <td>7.9250</td>\n",
       "      <td>NaN</td>\n",
       "      <td>S</td>\n",
       "      <td></td>\n",
       "      <td>Mr</td>\n",
       "    </tr>\n",
       "    <tr>\n",
       "      <th>46</th>\n",
       "      <td>938</td>\n",
       "      <td>1</td>\n",
       "      <td>Chevre, Mr. Paul Romaine</td>\n",
       "      <td>0</td>\n",
       "      <td>45.0</td>\n",
       "      <td>0</td>\n",
       "      <td>0</td>\n",
       "      <td>PC 17594</td>\n",
       "      <td>29.7000</td>\n",
       "      <td>A9</td>\n",
       "      <td>C</td>\n",
       "      <td></td>\n",
       "      <td>Mr</td>\n",
       "    </tr>\n",
       "    <tr>\n",
       "      <th>47</th>\n",
       "      <td>939</td>\n",
       "      <td>3</td>\n",
       "      <td>Shaughnessy, Mr. Patrick</td>\n",
       "      <td>0</td>\n",
       "      <td>NaN</td>\n",
       "      <td>0</td>\n",
       "      <td>0</td>\n",
       "      <td>370374</td>\n",
       "      <td>7.7500</td>\n",
       "      <td>NaN</td>\n",
       "      <td>Q</td>\n",
       "      <td></td>\n",
       "      <td>Mr</td>\n",
       "    </tr>\n",
       "    <tr>\n",
       "      <th>48</th>\n",
       "      <td>940</td>\n",
       "      <td>1</td>\n",
       "      <td>Bucknell, Mrs. William Robert (Emma Eliza Ward)</td>\n",
       "      <td>1</td>\n",
       "      <td>60.0</td>\n",
       "      <td>0</td>\n",
       "      <td>0</td>\n",
       "      <td>11813</td>\n",
       "      <td>76.2917</td>\n",
       "      <td>D15</td>\n",
       "      <td>C</td>\n",
       "      <td></td>\n",
       "      <td>Mrs</td>\n",
       "    </tr>\n",
       "    <tr>\n",
       "      <th>49</th>\n",
       "      <td>941</td>\n",
       "      <td>3</td>\n",
       "      <td>Coutts, Mrs. William (Winnie Minnie\" Treanor)\"</td>\n",
       "      <td>1</td>\n",
       "      <td>36.0</td>\n",
       "      <td>0</td>\n",
       "      <td>2</td>\n",
       "      <td>C.A. 37671</td>\n",
       "      <td>15.9000</td>\n",
       "      <td>NaN</td>\n",
       "      <td>S</td>\n",
       "      <td></td>\n",
       "      <td>Mrs</td>\n",
       "    </tr>\n",
       "  </tbody>\n",
       "</table>\n",
       "</div>"
      ],
      "text/plain": [
       "    PassengerId  Pclass                                               Name  \\\n",
       "0           892       3                                   Kelly, Mr. James   \n",
       "1           893       3                   Wilkes, Mrs. James (Ellen Needs)   \n",
       "2           894       2                          Myles, Mr. Thomas Francis   \n",
       "3           895       3                                   Wirz, Mr. Albert   \n",
       "4           896       3       Hirvonen, Mrs. Alexander (Helga E Lindqvist)   \n",
       "5           897       3                         Svensson, Mr. Johan Cervin   \n",
       "6           898       3                               Connolly, Miss. Kate   \n",
       "7           899       2                       Caldwell, Mr. Albert Francis   \n",
       "8           900       3          Abrahim, Mrs. Joseph (Sophie Halaut Easu)   \n",
       "9           901       3                            Davies, Mr. John Samuel   \n",
       "10          902       3                                   Ilieff, Mr. Ylio   \n",
       "11          903       1                         Jones, Mr. Charles Cresson   \n",
       "12          904       1      Snyder, Mrs. John Pillsbury (Nelle Stevenson)   \n",
       "13          905       2                               Howard, Mr. Benjamin   \n",
       "14          906       1  Chaffee, Mrs. Herbert Fuller (Carrie Constance...   \n",
       "15          907       2      del Carlo, Mrs. Sebastiano (Argenia Genovesi)   \n",
       "16          908       2                                  Keane, Mr. Daniel   \n",
       "17          909       3                                  Assaf, Mr. Gerios   \n",
       "18          910       3                       Ilmakangas, Miss. Ida Livija   \n",
       "19          911       3              Assaf Khalil, Mrs. Mariana (Miriam\")\"   \n",
       "20          912       1                             Rothschild, Mr. Martin   \n",
       "21          913       3                          Olsen, Master. Artur Karl   \n",
       "22          914       1               Flegenheim, Mrs. Alfred (Antoinette)   \n",
       "23          915       1                    Williams, Mr. Richard Norris II   \n",
       "24          916       1    Ryerson, Mrs. Arthur Larned (Emily Maria Borie)   \n",
       "25          917       3                            Robins, Mr. Alexander A   \n",
       "26          918       1                       Ostby, Miss. Helene Ragnhild   \n",
       "27          919       3                                  Daher, Mr. Shedid   \n",
       "28          920       1                            Brady, Mr. John Bertram   \n",
       "29          921       3                                  Samaan, Mr. Elias   \n",
       "30          922       2                       Louch, Mr. Charles Alexander   \n",
       "31          923       2                      Jefferys, Mr. Clifford Thomas   \n",
       "32          924       3           Dean, Mrs. Bertram (Eva Georgetta Light)   \n",
       "33          925       3  Johnston, Mrs. Andrew G (Elizabeth Lily\" Watson)\"   \n",
       "34          926       1                           Mock, Mr. Philipp Edmund   \n",
       "35          927       3   Katavelas, Mr. Vassilios (Catavelas Vassilios\")\"   \n",
       "36          928       3                                Roth, Miss. Sarah A   \n",
       "37          929       3                                 Cacic, Miss. Manda   \n",
       "38          930       3                                    Sap, Mr. Julius   \n",
       "39          931       3                                      Hee, Mr. Ling   \n",
       "40          932       3                                   Karun, Mr. Franz   \n",
       "41          933       1                        Franklin, Mr. Thomas Parham   \n",
       "42          934       3                              Goldsmith, Mr. Nathan   \n",
       "43          935       2              Corbett, Mrs. Walter H (Irene Colvin)   \n",
       "44          936       1   Kimball, Mrs. Edwin Nelson Jr (Gertrude Parsons)   \n",
       "45          937       3                    Peltomaki, Mr. Nikolai Johannes   \n",
       "46          938       1                           Chevre, Mr. Paul Romaine   \n",
       "47          939       3                           Shaughnessy, Mr. Patrick   \n",
       "48          940       1    Bucknell, Mrs. William Robert (Emma Eliza Ward)   \n",
       "49          941       3     Coutts, Mrs. William (Winnie Minnie\" Treanor)\"   \n",
       "\n",
       "    Sex   Age  SibSp  Parch              Ticket      Fare            Cabin  \\\n",
       "0     0  34.5      0      0              330911    7.8292              NaN   \n",
       "1     1  47.0      1      0              363272    7.0000              NaN   \n",
       "2     0  62.0      0      0              240276    9.6875              NaN   \n",
       "3     0  27.0      0      0              315154    8.6625              NaN   \n",
       "4     1  22.0      1      1             3101298   12.2875              NaN   \n",
       "5     0  14.0      0      0                7538    9.2250              NaN   \n",
       "6     1  30.0      0      0              330972    7.6292              NaN   \n",
       "7     0  26.0      1      1              248738   29.0000              NaN   \n",
       "8     1  18.0      0      0                2657    7.2292              NaN   \n",
       "9     0  21.0      2      0           A/4 48871   24.1500              NaN   \n",
       "10    0   NaN      0      0              349220    7.8958              NaN   \n",
       "11    0  46.0      0      0                 694   26.0000              NaN   \n",
       "12    1  23.0      1      0               21228   82.2667              B45   \n",
       "13    0  63.0      1      0               24065   26.0000              NaN   \n",
       "14    1  47.0      1      0         W.E.P. 5734   61.1750              E31   \n",
       "15    1  24.0      1      0       SC/PARIS 2167   27.7208              NaN   \n",
       "16    0  35.0      0      0              233734   12.3500              NaN   \n",
       "17    0  21.0      0      0                2692    7.2250              NaN   \n",
       "18    1  27.0      1      0    STON/O2. 3101270    7.9250              NaN   \n",
       "19    1  45.0      0      0                2696    7.2250              NaN   \n",
       "20    0  55.0      1      0            PC 17603   59.4000              NaN   \n",
       "21    0   9.0      0      1             C 17368    3.1708              NaN   \n",
       "22    1   NaN      0      0            PC 17598   31.6833              NaN   \n",
       "23    0  21.0      0      1            PC 17597   61.3792              NaN   \n",
       "24    1  48.0      1      3            PC 17608  262.3750  B57 B59 B63 B66   \n",
       "25    0  50.0      1      0           A/5. 3337   14.5000              NaN   \n",
       "26    1  22.0      0      1              113509   61.9792              B36   \n",
       "27    0  22.5      0      0                2698    7.2250              NaN   \n",
       "28    0  41.0      0      0              113054   30.5000              A21   \n",
       "29    0   NaN      2      0                2662   21.6792              NaN   \n",
       "30    0  50.0      1      0          SC/AH 3085   26.0000              NaN   \n",
       "31    0  24.0      2      0          C.A. 31029   31.5000              NaN   \n",
       "32    1  33.0      1      2           C.A. 2315   20.5750              NaN   \n",
       "33    1   NaN      1      2          W./C. 6607   23.4500              NaN   \n",
       "34    0  30.0      1      0               13236   57.7500              C78   \n",
       "35    0  18.5      0      0                2682    7.2292              NaN   \n",
       "36    1   NaN      0      0              342712    8.0500              NaN   \n",
       "37    1  21.0      0      0              315087    8.6625              NaN   \n",
       "38    0  25.0      0      0              345768    9.5000              NaN   \n",
       "39    0   NaN      0      0                1601   56.4958              NaN   \n",
       "40    0  39.0      0      1              349256   13.4167              NaN   \n",
       "41    0   NaN      0      0              113778   26.5500              D34   \n",
       "42    0  41.0      0      0  SOTON/O.Q. 3101263    7.8500              NaN   \n",
       "43    1  30.0      0      0              237249   13.0000              NaN   \n",
       "44    1  45.0      1      0               11753   52.5542              D19   \n",
       "45    0  25.0      0      0   STON/O 2. 3101291    7.9250              NaN   \n",
       "46    0  45.0      0      0            PC 17594   29.7000               A9   \n",
       "47    0   NaN      0      0              370374    7.7500              NaN   \n",
       "48    1  60.0      0      0               11813   76.2917              D15   \n",
       "49    1  36.0      0      2          C.A. 37671   15.9000              NaN   \n",
       "\n",
       "   Embarked Survived   Title  \n",
       "0         Q               Mr  \n",
       "1         S              Mrs  \n",
       "2         Q               Mr  \n",
       "3         S               Mr  \n",
       "4         S              Mrs  \n",
       "5         S               Mr  \n",
       "6         Q             Miss  \n",
       "7         S               Mr  \n",
       "8         C              Mrs  \n",
       "9         S               Mr  \n",
       "10        S               Mr  \n",
       "11        S               Mr  \n",
       "12        S              Mrs  \n",
       "13        S               Mr  \n",
       "14        S              Mrs  \n",
       "15        C              Mrs  \n",
       "16        Q               Mr  \n",
       "17        C               Mr  \n",
       "18        S             Miss  \n",
       "19        C              Mrs  \n",
       "20        C               Mr  \n",
       "21        S           Master  \n",
       "22        S              Mrs  \n",
       "23        C               Mr  \n",
       "24        C              Mrs  \n",
       "25        S               Mr  \n",
       "26        C             Miss  \n",
       "27        C               Mr  \n",
       "28        S               Mr  \n",
       "29        C               Mr  \n",
       "30        S               Mr  \n",
       "31        S               Mr  \n",
       "32        S              Mrs  \n",
       "33        S              Mrs  \n",
       "34        C               Mr  \n",
       "35        C               Mr  \n",
       "36        S             Miss  \n",
       "37        S             Miss  \n",
       "38        S               Mr  \n",
       "39        S               Mr  \n",
       "40        C               Mr  \n",
       "41        S               Mr  \n",
       "42        S               Mr  \n",
       "43        S              Mrs  \n",
       "44        S              Mrs  \n",
       "45        S               Mr  \n",
       "46        C               Mr  \n",
       "47        Q               Mr  \n",
       "48        C              Mrs  \n",
       "49        S              Mrs  "
      ]
     },
     "execution_count": 35,
     "metadata": {},
     "output_type": "execute_result"
    }
   ],
   "source": [
    "train[\"Fare\"].fillna(train.groupby(\"Pclass\")[\"Fare\"].transform(\"median\"), inplace=True)\n",
    "test[\"Fare\"].fillna(test.groupby(\"Pclass\")[\"Fare\"].transform(\"median\"), inplace=True)\n",
    "train.head(50)"
   ]
  },
  {
   "cell_type": "code",
   "execution_count": 36,
   "id": "67cc565a",
   "metadata": {
    "execution": {
     "iopub.execute_input": "2022-07-23T17:44:55.484416Z",
     "iopub.status.busy": "2022-07-23T17:44:55.483733Z",
     "iopub.status.idle": "2022-07-23T17:44:55.863322Z",
     "shell.execute_reply": "2022-07-23T17:44:55.862167Z"
    },
    "papermill": {
     "duration": 0.41057,
     "end_time": "2022-07-23T17:44:55.865919",
     "exception": false,
     "start_time": "2022-07-23T17:44:55.455349",
     "status": "completed"
    },
    "tags": []
   },
   "outputs": [
    {
     "data": {
      "image/png": "[encoded data removed]",
      "text/plain": [
       "<Figure size 925.55x216 with 1 Axes>"
      ]
     },
     "metadata": {},
     "output_type": "display_data"
    }
   ],
   "source": [
    "facet = sns.FacetGrid(train, hue=\"Survived\",aspect=4 )\n",
    "facet.map(sns.kdeplot, 'Fare', shade = True)\n",
    "facet.set(xlim = (0, train['Fare'].max()))\n",
    "facet.add_legend()\n",
    "plt.show()"
   ]
  },
  {
   "cell_type": "code",
   "execution_count": 37,
   "id": "ab9c5a1e",
   "metadata": {
    "execution": {
     "iopub.execute_input": "2022-07-23T17:44:55.924182Z",
     "iopub.status.busy": "2022-07-23T17:44:55.923562Z",
     "iopub.status.idle": "2022-07-23T17:44:55.944967Z",
     "shell.execute_reply": "2022-07-23T17:44:55.943420Z"
    },
    "papermill": {
     "duration": 0.053601,
     "end_time": "2022-07-23T17:44:55.947416",
     "exception": false,
     "start_time": "2022-07-23T17:44:55.893815",
     "status": "completed"
    },
    "tags": []
   },
   "outputs": [
    {
     "name": "stdout",
     "output_type": "stream",
     "text": [
      "Embarked\n",
      "C    102\n",
      "Q     46\n",
      "S    270\n",
      "Name: PassengerId, dtype: int64\n"
     ]
    },
    {
     "data": {
      "text/html": [
       "<div>\n",
       "<style scoped>\n",
       "    .dataframe tbody tr th:only-of-type {\n",
       "        vertical-align: middle;\n",
       "    }\n",
       "\n",
       "    .dataframe tbody tr th {\n",
       "        vertical-align: top;\n",
       "    }\n",
       "\n",
       "    .dataframe thead th {\n",
       "        text-align: right;\n",
       "    }\n",
       "</style>\n",
       "<table border=\"1\" class=\"dataframe\">\n",
       "  <thead>\n",
       "    <tr style=\"text-align: right;\">\n",
       "      <th></th>\n",
       "      <th>PassengerId</th>\n",
       "      <th>Pclass</th>\n",
       "      <th>Sex</th>\n",
       "      <th>Age</th>\n",
       "      <th>SibSp</th>\n",
       "      <th>Parch</th>\n",
       "      <th>Fare</th>\n",
       "    </tr>\n",
       "    <tr>\n",
       "      <th>Embarked</th>\n",
       "      <th></th>\n",
       "      <th></th>\n",
       "      <th></th>\n",
       "      <th></th>\n",
       "      <th></th>\n",
       "      <th></th>\n",
       "      <th></th>\n",
       "    </tr>\n",
       "  </thead>\n",
       "  <tbody>\n",
       "    <tr>\n",
       "      <th>C</th>\n",
       "      <td>1094.676471</td>\n",
       "      <td>1.794118</td>\n",
       "      <td>0.392157</td>\n",
       "      <td>34.737805</td>\n",
       "      <td>0.421569</td>\n",
       "      <td>0.382353</td>\n",
       "      <td>66.259765</td>\n",
       "    </tr>\n",
       "    <tr>\n",
       "      <th>Q</th>\n",
       "      <td>1088.239130</td>\n",
       "      <td>2.869565</td>\n",
       "      <td>0.521739</td>\n",
       "      <td>29.318182</td>\n",
       "      <td>0.195652</td>\n",
       "      <td>0.021739</td>\n",
       "      <td>10.957700</td>\n",
       "    </tr>\n",
       "    <tr>\n",
       "      <th>S</th>\n",
       "      <td>1104.788889</td>\n",
       "      <td>2.340741</td>\n",
       "      <td>0.325926</td>\n",
       "      <td>28.758772</td>\n",
       "      <td>0.500000</td>\n",
       "      <td>0.459259</td>\n",
       "      <td>28.155123</td>\n",
       "    </tr>\n",
       "  </tbody>\n",
       "</table>\n",
       "</div>"
      ],
      "text/plain": [
       "          PassengerId    Pclass       Sex        Age     SibSp     Parch  \\\n",
       "Embarked                                                                   \n",
       "C         1094.676471  1.794118  0.392157  34.737805  0.421569  0.382353   \n",
       "Q         1088.239130  2.869565  0.521739  29.318182  0.195652  0.021739   \n",
       "S         1104.788889  2.340741  0.325926  28.758772  0.500000  0.459259   \n",
       "\n",
       "               Fare  \n",
       "Embarked             \n",
       "C         66.259765  \n",
       "Q         10.957700  \n",
       "S         28.155123  "
      ]
     },
     "execution_count": 37,
     "metadata": {},
     "output_type": "execute_result"
    }
   ],
   "source": [
    "print(train.groupby(['Embarked'])['PassengerId'].count())\n",
    "\n",
    "# Compare with other variables\n",
    "train.groupby(['Embarked']).mean()"
   ]
  },
  {
   "cell_type": "code",
   "execution_count": 38,
   "id": "1404b1df",
   "metadata": {
    "execution": {
     "iopub.execute_input": "2022-07-23T17:44:56.005626Z",
     "iopub.status.busy": "2022-07-23T17:44:56.004851Z",
     "iopub.status.idle": "2022-07-23T17:44:56.226104Z",
     "shell.execute_reply": "2022-07-23T17:44:56.224989Z"
    },
    "papermill": {
     "duration": 0.253235,
     "end_time": "2022-07-23T17:44:56.228563",
     "exception": false,
     "start_time": "2022-07-23T17:44:55.975328",
     "status": "completed"
    },
    "tags": []
   },
   "outputs": [
    {
     "name": "stdout",
     "output_type": "stream",
     "text": [
      "0\n"
     ]
    },
    {
     "data": {
      "text/plain": [
       "<AxesSubplot:>"
      ]
     },
     "execution_count": 38,
     "metadata": {},
     "output_type": "execute_result"
    },
    {
     "data": {
      "image/png": "[encoded data removed]",
      "text/plain": [
       "<Figure size 432x288 with 1 Axes>"
      ]
     },
     "metadata": {},
     "output_type": "display_data"
    }
   ],
   "source": [
    "# count missing values\n",
    "print(train[\"Embarked\"].isnull().sum()) # 2\n",
    "\n",
    "# Fill Embarked nan values of dataset set with 'S' most frequent value\n",
    "train[\"Embarked\"] = train[\"Embarked\"].fillna(\"S\")\n",
    "\n",
    "# let's visualize it to confirm\n",
    "sns.heatmap(train.isnull(), yticklabels = False, \n",
    "            cbar = False, cmap = 'viridis')"
   ]
  },
  {
   "cell_type": "code",
   "execution_count": 39,
   "id": "e7774b44",
   "metadata": {
    "execution": {
     "iopub.execute_input": "2022-07-23T17:44:56.287730Z",
     "iopub.status.busy": "2022-07-23T17:44:56.286660Z",
     "iopub.status.idle": "2022-07-23T17:44:57.101228Z",
     "shell.execute_reply": "2022-07-23T17:44:57.100035Z"
    },
    "papermill": {
     "duration": 0.846935,
     "end_time": "2022-07-23T17:44:57.103731",
     "exception": false,
     "start_time": "2022-07-23T17:44:56.256796",
     "status": "completed"
    },
    "tags": []
   },
   "outputs": [
    {
     "name": "stderr",
     "output_type": "stream",
     "text": [
      "/opt/conda/lib/python3.7/site-packages/seaborn/categorical.py:3717: UserWarning: The `factorplot` function has been renamed to `catplot`. The original name will be removed in a future release. Please update your code. Note that the default `kind` in `factorplot` (`'point'`) has changed `'strip'` in `catplot`.\n",
      "  warnings.warn(msg)\n",
      "/opt/conda/lib/python3.7/site-packages/seaborn/categorical.py:3723: UserWarning: The `size` parameter has been renamed to `height`; please update your code.\n",
      "  warnings.warn(msg, UserWarning)\n",
      "/opt/conda/lib/python3.7/site-packages/seaborn/_decorators.py:43: FutureWarning: Pass the following variable as a keyword arg: x. From version 0.12, the only valid positional argument will be `data`, and passing other arguments without an explicit keyword will result in an error or misinterpretation.\n",
      "  FutureWarning\n"
     ]
    },
    {
     "data": {
      "image/png": "[encoded data removed]",
      "text/plain": [
       "<Figure size 1141.55x360 with 3 Axes>"
      ]
     },
     "metadata": {},
     "output_type": "display_data"
    }
   ],
   "source": [
    "Embarked_Pc = sns.factorplot(\"Pclass\", col=\"Embarked\",  data=train,\n",
    "                   size=5, kind=\"count\", palette=\"muted\", hue = 'Survived')\n",
    "\n",
    "Embarked_Pc.despine(left=True)\n",
    "Embarked_Pc = Embarked_Pc.set_ylabels(\"Count\")"
   ]
  },
  {
   "cell_type": "code",
   "execution_count": 40,
   "id": "9181d18c",
   "metadata": {
    "execution": {
     "iopub.execute_input": "2022-07-23T17:44:57.164601Z",
     "iopub.status.busy": "2022-07-23T17:44:57.163385Z",
     "iopub.status.idle": "2022-07-23T17:44:57.179357Z",
     "shell.execute_reply": "2022-07-23T17:44:57.178528Z"
    },
    "papermill": {
     "duration": 0.048843,
     "end_time": "2022-07-23T17:44:57.181652",
     "exception": false,
     "start_time": "2022-07-23T17:44:57.132809",
     "status": "completed"
    },
    "tags": []
   },
   "outputs": [
    {
     "data": {
      "text/plain": [
       "1    253\n",
       "0    165\n",
       "Name: not_alone, dtype: int64"
      ]
     },
     "execution_count": 40,
     "metadata": {},
     "output_type": "execute_result"
    }
   ],
   "source": [
    "data = [train, test]\n",
    "for train in data:\n",
    "    train['relatives'] = train['SibSp'] + train['Parch']\n",
    "    train.loc[train['relatives'] > 0, 'not_alone'] = 0\n",
    "    train.loc[train['relatives'] == 0, 'not_alone'] = 1\n",
    "    train['not_alone'] = train['not_alone'].astype(int)\n",
    "train['not_alone'].value_counts()"
   ]
  },
  {
   "cell_type": "code",
   "execution_count": 41,
   "id": "319e59e1",
   "metadata": {
    "execution": {
     "iopub.execute_input": "2022-07-23T17:44:57.241631Z",
     "iopub.status.busy": "2022-07-23T17:44:57.241008Z",
     "iopub.status.idle": "2022-07-23T17:44:57.616738Z",
     "shell.execute_reply": "2022-07-23T17:44:57.615704Z"
    },
    "papermill": {
     "duration": 0.408396,
     "end_time": "2022-07-23T17:44:57.619047",
     "exception": false,
     "start_time": "2022-07-23T17:44:57.210651",
     "status": "completed"
    },
    "tags": []
   },
   "outputs": [
    {
     "name": "stderr",
     "output_type": "stream",
     "text": [
      "/opt/conda/lib/python3.7/site-packages/seaborn/categorical.py:3717: UserWarning: The `factorplot` function has been renamed to `catplot`. The original name will be removed in a future release. Please update your code. Note that the default `kind` in `factorplot` (`'point'`) has changed `'strip'` in `catplot`.\n",
      "  warnings.warn(msg)\n",
      "/opt/conda/lib/python3.7/site-packages/seaborn/_decorators.py:43: FutureWarning: Pass the following variables as keyword args: x, y. From version 0.12, the only valid positional argument will be `data`, and passing other arguments without an explicit keyword will result in an error or misinterpretation.\n",
      "  FutureWarning\n"
     ]
    },
    {
     "data": {
      "image/png": "[encoded data removed]",
      "text/plain": [
       "<Figure size 900x360 with 1 Axes>"
      ]
     },
     "metadata": {},
     "output_type": "display_data"
    }
   ],
   "source": [
    "axes = sns.factorplot('relatives','Survived', \n",
    "                      data=train, aspect = 2.5, )"
   ]
  },
  {
   "cell_type": "code",
   "execution_count": 42,
   "id": "ecbda8cf",
   "metadata": {
    "execution": {
     "iopub.execute_input": "2022-07-23T17:44:57.679451Z",
     "iopub.status.busy": "2022-07-23T17:44:57.678756Z",
     "iopub.status.idle": "2022-07-23T17:44:57.809550Z",
     "shell.execute_reply": "2022-07-23T17:44:57.807777Z"
    },
    "papermill": {
     "duration": 0.163617,
     "end_time": "2022-07-23T17:44:57.811797",
     "exception": true,
     "start_time": "2022-07-23T17:44:57.648180",
     "status": "failed"
    },
    "tags": []
   },
   "outputs": [
    {
     "ename": "ValueError",
     "evalue": "Must have equal len keys and value when setting with an iterable",
     "output_type": "error",
     "traceback": [
      "\u001b[0;31m---------------------------------------------------------------------------\u001b[0m",
      "\u001b[0;31mValueError\u001b[0m                                Traceback (most recent call last)",
      "\u001b[0;32m/tmp/ipykernel_19/1614862879.py\u001b[0m in \u001b[0;36m<module>\u001b[0;34m\u001b[0m\n\u001b[1;32m      1\u001b[0m \u001b[0;32mfor\u001b[0m \u001b[0mtrain\u001b[0m \u001b[0;32min\u001b[0m \u001b[0mtrain_test_data\u001b[0m\u001b[0;34m:\u001b[0m\u001b[0;34m\u001b[0m\u001b[0;34m\u001b[0m\u001b[0m\n\u001b[0;32m----> 2\u001b[0;31m     \u001b[0mtrain\u001b[0m\u001b[0;34m.\u001b[0m\u001b[0mloc\u001b[0m\u001b[0;34m[\u001b[0m\u001b[0mtrain\u001b[0m\u001b[0;34m[\u001b[0m\u001b[0;34m'Fare'\u001b[0m\u001b[0;34m]\u001b[0m \u001b[0;34m<=\u001b[0m \u001b[0;36m17\u001b[0m\u001b[0;34m,\u001b[0m \u001b[0;34m'Fare'\u001b[0m\u001b[0;34m]\u001b[0m \u001b[0;34m=\u001b[0m \u001b[0;36m0\u001b[0m\u001b[0;34m,\u001b[0m\u001b[0;34m\u001b[0m\u001b[0;34m\u001b[0m\u001b[0m\n\u001b[0m\u001b[1;32m      3\u001b[0m     \u001b[0mtrain\u001b[0m\u001b[0;34m.\u001b[0m\u001b[0mloc\u001b[0m\u001b[0;34m[\u001b[0m\u001b[0;34m(\u001b[0m\u001b[0mtrain\u001b[0m\u001b[0;34m[\u001b[0m\u001b[0;34m'Fare'\u001b[0m\u001b[0;34m]\u001b[0m \u001b[0;34m>\u001b[0m \u001b[0;36m17\u001b[0m\u001b[0;34m)\u001b[0m \u001b[0;34m&\u001b[0m \u001b[0;34m(\u001b[0m\u001b[0mtrain\u001b[0m\u001b[0;34m[\u001b[0m\u001b[0;34m'Fare'\u001b[0m\u001b[0;34m]\u001b[0m \u001b[0;34m<=\u001b[0m \u001b[0;36m30\u001b[0m\u001b[0;34m)\u001b[0m\u001b[0;34m,\u001b[0m \u001b[0;34m'Fare'\u001b[0m\u001b[0;34m]\u001b[0m \u001b[0;34m=\u001b[0m \u001b[0;36m1\u001b[0m\u001b[0;34m,\u001b[0m\u001b[0;34m\u001b[0m\u001b[0;34m\u001b[0m\u001b[0m\n\u001b[1;32m      4\u001b[0m     \u001b[0mtrain\u001b[0m\u001b[0;34m.\u001b[0m\u001b[0mloc\u001b[0m\u001b[0;34m[\u001b[0m\u001b[0;34m(\u001b[0m\u001b[0mtrain\u001b[0m\u001b[0;34m[\u001b[0m\u001b[0;34m'Fare'\u001b[0m\u001b[0;34m]\u001b[0m \u001b[0;34m>\u001b[0m \u001b[0;36m30\u001b[0m\u001b[0;34m)\u001b[0m \u001b[0;34m&\u001b[0m \u001b[0;34m(\u001b[0m\u001b[0mtrain\u001b[0m\u001b[0;34m[\u001b[0m\u001b[0;34m'Fare'\u001b[0m\u001b[0;34m]\u001b[0m \u001b[0;34m<=\u001b[0m \u001b[0;36m100\u001b[0m\u001b[0;34m)\u001b[0m\u001b[0;34m,\u001b[0m \u001b[0;34m'Fare'\u001b[0m\u001b[0;34m]\u001b[0m \u001b[0;34m=\u001b[0m \u001b[0;36m2\u001b[0m\u001b[0;34m,\u001b[0m\u001b[0;34m\u001b[0m\u001b[0;34m\u001b[0m\u001b[0m\n\u001b[1;32m      5\u001b[0m     \u001b[0mtrain\u001b[0m\u001b[0;34m.\u001b[0m\u001b[0mloc\u001b[0m\u001b[0;34m[\u001b[0m\u001b[0mtrain\u001b[0m\u001b[0;34m[\u001b[0m\u001b[0;34m'Fare'\u001b[0m\u001b[0;34m]\u001b[0m \u001b[0;34m>=\u001b[0m \u001b[0;36m100\u001b[0m\u001b[0;34m,\u001b[0m \u001b[0;34m'Fare'\u001b[0m\u001b[0;34m]\u001b[0m \u001b[0;34m=\u001b[0m \u001b[0;36m3\u001b[0m\u001b[0;34m\u001b[0m\u001b[0;34m\u001b[0m\u001b[0m\n",
      "\u001b[0;32m/opt/conda/lib/python3.7/site-packages/pandas/core/indexing.py\u001b[0m in \u001b[0;36m__setitem__\u001b[0;34m(self, key, value)\u001b[0m\n\u001b[1;32m    721\u001b[0m \u001b[0;34m\u001b[0m\u001b[0m\n\u001b[1;32m    722\u001b[0m         \u001b[0miloc\u001b[0m \u001b[0;34m=\u001b[0m \u001b[0mself\u001b[0m \u001b[0;32mif\u001b[0m \u001b[0mself\u001b[0m\u001b[0;34m.\u001b[0m\u001b[0mname\u001b[0m \u001b[0;34m==\u001b[0m \u001b[0;34m\"iloc\"\u001b[0m \u001b[0;32melse\u001b[0m \u001b[0mself\u001b[0m\u001b[0;34m.\u001b[0m\u001b[0mobj\u001b[0m\u001b[0;34m.\u001b[0m\u001b[0miloc\u001b[0m\u001b[0;34m\u001b[0m\u001b[0;34m\u001b[0m\u001b[0m\n\u001b[0;32m--> 723\u001b[0;31m         \u001b[0miloc\u001b[0m\u001b[0;34m.\u001b[0m\u001b[0m_setitem_with_indexer\u001b[0m\u001b[0;34m(\u001b[0m\u001b[0mindexer\u001b[0m\u001b[0;34m,\u001b[0m \u001b[0mvalue\u001b[0m\u001b[0;34m,\u001b[0m \u001b[0mself\u001b[0m\u001b[0;34m.\u001b[0m\u001b[0mname\u001b[0m\u001b[0;34m)\u001b[0m\u001b[0;34m\u001b[0m\u001b[0;34m\u001b[0m\u001b[0m\n\u001b[0m\u001b[1;32m    724\u001b[0m \u001b[0;34m\u001b[0m\u001b[0m\n\u001b[1;32m    725\u001b[0m     \u001b[0;32mdef\u001b[0m \u001b[0m_validate_key\u001b[0m\u001b[0;34m(\u001b[0m\u001b[0mself\u001b[0m\u001b[0;34m,\u001b[0m \u001b[0mkey\u001b[0m\u001b[0;34m,\u001b[0m \u001b[0maxis\u001b[0m\u001b[0;34m:\u001b[0m \u001b[0mint\u001b[0m\u001b[0;34m)\u001b[0m\u001b[0;34m:\u001b[0m\u001b[0;34m\u001b[0m\u001b[0;34m\u001b[0m\u001b[0m\n",
      "\u001b[0;32m/opt/conda/lib/python3.7/site-packages/pandas/core/indexing.py\u001b[0m in \u001b[0;36m_setitem_with_indexer\u001b[0;34m(self, indexer, value, name)\u001b[0m\n\u001b[1;32m   1728\u001b[0m         \u001b[0;32mif\u001b[0m \u001b[0mtake_split_path\u001b[0m\u001b[0;34m:\u001b[0m\u001b[0;34m\u001b[0m\u001b[0;34m\u001b[0m\u001b[0m\n\u001b[1;32m   1729\u001b[0m             \u001b[0;31m# We have to operate column-wise\u001b[0m\u001b[0;34m\u001b[0m\u001b[0;34m\u001b[0m\u001b[0;34m\u001b[0m\u001b[0m\n\u001b[0;32m-> 1730\u001b[0;31m             \u001b[0mself\u001b[0m\u001b[0;34m.\u001b[0m\u001b[0m_setitem_with_indexer_split_path\u001b[0m\u001b[0;34m(\u001b[0m\u001b[0mindexer\u001b[0m\u001b[0;34m,\u001b[0m \u001b[0mvalue\u001b[0m\u001b[0;34m,\u001b[0m \u001b[0mname\u001b[0m\u001b[0;34m)\u001b[0m\u001b[0;34m\u001b[0m\u001b[0;34m\u001b[0m\u001b[0m\n\u001b[0m\u001b[1;32m   1731\u001b[0m         \u001b[0;32melse\u001b[0m\u001b[0;34m:\u001b[0m\u001b[0;34m\u001b[0m\u001b[0;34m\u001b[0m\u001b[0m\n\u001b[1;32m   1732\u001b[0m             \u001b[0mself\u001b[0m\u001b[0;34m.\u001b[0m\u001b[0m_setitem_single_block\u001b[0m\u001b[0;34m(\u001b[0m\u001b[0mindexer\u001b[0m\u001b[0;34m,\u001b[0m \u001b[0mvalue\u001b[0m\u001b[0;34m,\u001b[0m \u001b[0mname\u001b[0m\u001b[0;34m)\u001b[0m\u001b[0;34m\u001b[0m\u001b[0;34m\u001b[0m\u001b[0m\n",
      "\u001b[0;32m/opt/conda/lib/python3.7/site-packages/pandas/core/indexing.py\u001b[0m in \u001b[0;36m_setitem_with_indexer_split_path\u001b[0;34m(self, indexer, value, name)\u001b[0m\n\u001b[1;32m   1784\u001b[0m \u001b[0;34m\u001b[0m\u001b[0m\n\u001b[1;32m   1785\u001b[0m                 raise ValueError(\n\u001b[0;32m-> 1786\u001b[0;31m                     \u001b[0;34m\"Must have equal len keys and value \"\u001b[0m\u001b[0;34m\u001b[0m\u001b[0;34m\u001b[0m\u001b[0m\n\u001b[0m\u001b[1;32m   1787\u001b[0m                     \u001b[0;34m\"when setting with an iterable\"\u001b[0m\u001b[0;34m\u001b[0m\u001b[0;34m\u001b[0m\u001b[0m\n\u001b[1;32m   1788\u001b[0m                 )\n",
      "\u001b[0;31mValueError\u001b[0m: Must have equal len keys and value when setting with an iterable"
     ]
    }
   ],
   "source": [
    "for train in train_test_data:\n",
    "    train.loc[train['Fare'] <= 17, 'Fare'] = 0,\n",
    "    train.loc[(train['Fare'] > 17) & (train['Fare'] <= 30), 'Fare'] = 1,\n",
    "    train.loc[(train['Fare'] > 30) & (train['Fare'] <= 100), 'Fare'] = 2,\n",
    "    train.loc[train['Fare'] >= 100, 'Fare'] = 3"
   ]
  },
  {
   "cell_type": "code",
   "execution_count": null,
   "id": "4dd73c50",
   "metadata": {
    "execution": {
     "iopub.execute_input": "2022-07-23T17:25:09.860535Z",
     "iopub.status.busy": "2022-07-23T17:25:09.860138Z",
     "iopub.status.idle": "2022-07-23T17:25:09.880536Z",
     "shell.execute_reply": "2022-07-23T17:25:09.879149Z",
     "shell.execute_reply.started": "2022-07-23T17:25:09.860503Z"
    },
    "papermill": {
     "duration": null,
     "end_time": null,
     "exception": null,
     "start_time": null,
     "status": "pending"
    },
    "tags": []
   },
   "outputs": [],
   "source": [
    "train.head()"
   ]
  },
  {
   "cell_type": "code",
   "execution_count": null,
   "id": "acca4561",
   "metadata": {
    "execution": {
     "iopub.execute_input": "2022-07-23T17:25:24.414904Z",
     "iopub.status.busy": "2022-07-23T17:25:24.414330Z",
     "iopub.status.idle": "2022-07-23T17:25:24.424461Z",
     "shell.execute_reply": "2022-07-23T17:25:24.423473Z",
     "shell.execute_reply.started": "2022-07-23T17:25:24.414860Z"
    },
    "papermill": {
     "duration": null,
     "end_time": null,
     "exception": null,
     "start_time": null,
     "status": "pending"
    },
    "tags": []
   },
   "outputs": [],
   "source": [
    "train.Cabin.value_counts()"
   ]
  },
  {
   "cell_type": "code",
   "execution_count": null,
   "id": "fdcd1a5a",
   "metadata": {
    "execution": {
     "iopub.execute_input": "2022-07-23T17:25:43.279965Z",
     "iopub.status.busy": "2022-07-23T17:25:43.279569Z",
     "iopub.status.idle": "2022-07-23T17:25:43.287988Z",
     "shell.execute_reply": "2022-07-23T17:25:43.286709Z",
     "shell.execute_reply.started": "2022-07-23T17:25:43.279933Z"
    },
    "papermill": {
     "duration": null,
     "end_time": null,
     "exception": null,
     "start_time": null,
     "status": "pending"
    },
    "tags": []
   },
   "outputs": [],
   "source": [
    "for dataset in train_test_data:\n",
    "    dataset['Cabin'] =  dataset['Cabin'].str[:1]"
   ]
  },
  {
   "cell_type": "code",
   "execution_count": null,
   "id": "773b362e",
   "metadata": {
    "execution": {
     "iopub.execute_input": "2022-07-23T17:25:58.616315Z",
     "iopub.status.busy": "2022-07-23T17:25:58.615671Z",
     "iopub.status.idle": "2022-07-23T17:25:58.910824Z",
     "shell.execute_reply": "2022-07-23T17:25:58.909335Z",
     "shell.execute_reply.started": "2022-07-23T17:25:58.616275Z"
    },
    "papermill": {
     "duration": null,
     "end_time": null,
     "exception": null,
     "start_time": null,
     "status": "pending"
    },
    "tags": []
   },
   "outputs": [],
   "source": [
    "Pclass1 = train[train['Pclass']==1]['Cabin'].value_counts()\n",
    "Pclass2 = train[train['Pclass']==2]['Cabin'].value_counts()\n",
    "Pclass3 = train[train['Pclass']==3]['Cabin'].value_counts()\n",
    "df = pd.DataFrame([Pclass1, Pclass2, Pclass3])\n",
    "df.index = ['1st class','2nd class', '3rd class']\n",
    "df.plot(kind='bar',stacked=True, figsize=(10,5))"
   ]
  },
  {
   "cell_type": "code",
   "execution_count": null,
   "id": "cf348455",
   "metadata": {
    "execution": {
     "iopub.execute_input": "2022-07-23T17:26:20.751929Z",
     "iopub.status.busy": "2022-07-23T17:26:20.751514Z",
     "iopub.status.idle": "2022-07-23T17:26:20.761153Z",
     "shell.execute_reply": "2022-07-23T17:26:20.759801Z",
     "shell.execute_reply.started": "2022-07-23T17:26:20.751894Z"
    },
    "papermill": {
     "duration": null,
     "end_time": null,
     "exception": null,
     "start_time": null,
     "status": "pending"
    },
    "tags": []
   },
   "outputs": [],
   "source": [
    "cabin_mapping = {\"A\": 0, \"B\": 0.4, \"C\": 0.8, \"D\": 1.2, \"E\": 1.6, \"F\": 2, \"G\": 2.4, \"T\": 2.8}\n",
    "for dataset in train_test_data:\n",
    "    dataset['Cabin'] = dataset['Cabin'].map(cabin_mapping)"
   ]
  },
  {
   "cell_type": "code",
   "execution_count": null,
   "id": "9ed53983",
   "metadata": {
    "execution": {
     "iopub.execute_input": "2022-07-23T17:27:05.523146Z",
     "iopub.status.busy": "2022-07-23T17:27:05.521998Z",
     "iopub.status.idle": "2022-07-23T17:27:06.195753Z",
     "shell.execute_reply": "2022-07-23T17:27:06.194624Z",
     "shell.execute_reply.started": "2022-07-23T17:27:05.523099Z"
    },
    "papermill": {
     "duration": null,
     "end_time": null,
     "exception": null,
     "start_time": null,
     "status": "pending"
    },
    "tags": []
   },
   "outputs": [],
   "source": [
    "plt.figure(figsize=(18,5))\n",
    "sns.barplot(x=dataset['Title'], y = dataset['Age'])"
   ]
  },
  {
   "cell_type": "code",
   "execution_count": null,
   "id": "db5ba22d",
   "metadata": {
    "execution": {
     "iopub.execute_input": "2022-07-23T17:27:23.442117Z",
     "iopub.status.busy": "2022-07-23T17:27:23.441673Z",
     "iopub.status.idle": "2022-07-23T17:27:23.451422Z",
     "shell.execute_reply": "2022-07-23T17:27:23.450492Z",
     "shell.execute_reply.started": "2022-07-23T17:27:23.442084Z"
    },
    "papermill": {
     "duration": null,
     "end_time": null,
     "exception": null,
     "start_time": null,
     "status": "pending"
    },
    "tags": []
   },
   "outputs": [],
   "source": [
    "print(dataset.groupby('Title')['Age'].mean())"
   ]
  },
  {
   "cell_type": "code",
   "execution_count": null,
   "id": "431f62c3",
   "metadata": {
    "execution": {
     "iopub.execute_input": "2022-07-23T17:27:42.104455Z",
     "iopub.status.busy": "2022-07-23T17:27:42.104046Z",
     "iopub.status.idle": "2022-07-23T17:27:42.365868Z",
     "shell.execute_reply": "2022-07-23T17:27:42.363850Z",
     "shell.execute_reply.started": "2022-07-23T17:27:42.104422Z"
    },
    "papermill": {
     "duration": null,
     "end_time": null,
     "exception": null,
     "start_time": null,
     "status": "pending"
    },
    "tags": []
   },
   "outputs": [],
   "source": [
    "sns.countplot(dataset[\"Title\"]).set_xticklabels([\"Master\",\"Miss-Mrs\",\"Mr\",\"Rare\"]);"
   ]
  },
  {
   "cell_type": "code",
   "execution_count": null,
   "id": "880ba444",
   "metadata": {
    "execution": {
     "iopub.execute_input": "2022-07-23T17:28:57.104342Z",
     "iopub.status.busy": "2022-07-23T17:28:57.103898Z",
     "iopub.status.idle": "2022-07-23T17:28:57.113754Z",
     "shell.execute_reply": "2022-07-23T17:28:57.112893Z",
     "shell.execute_reply.started": "2022-07-23T17:28:57.104306Z"
    },
    "papermill": {
     "duration": null,
     "end_time": null,
     "exception": null,
     "start_time": null,
     "status": "pending"
    },
    "tags": []
   },
   "outputs": [],
   "source": [
    "train[\"FamilySize\"] = train[\"SibSp\"] + train[\"Parch\"] + 1\n",
    "test[\"FamilySize\"] = test[\"SibSp\"] + test[\"Parch\"] + 1"
   ]
  },
  {
   "cell_type": "code",
   "execution_count": null,
   "id": "8465c975",
   "metadata": {
    "execution": {
     "iopub.execute_input": "2022-07-23T17:29:25.784202Z",
     "iopub.status.busy": "2022-07-23T17:29:25.783799Z",
     "iopub.status.idle": "2022-07-23T17:29:26.397159Z",
     "shell.execute_reply": "2022-07-23T17:29:26.396147Z",
     "shell.execute_reply.started": "2022-07-23T17:29:25.784171Z"
    },
    "papermill": {
     "duration": null,
     "end_time": null,
     "exception": null,
     "start_time": null,
     "status": "pending"
    },
    "tags": []
   },
   "outputs": [],
   "source": [
    "facet = sns.FacetGrid(train, hue=\"Survived\",aspect=4)\n",
    "facet.map(sns.kdeplot,'FamilySize',shade= False)\n",
    "facet.set(xlim=(0, train['FamilySize'].max()))\n",
    "facet.add_legend()\n",
    "plt.xlim(0)"
   ]
  },
  {
   "cell_type": "code",
   "execution_count": null,
   "id": "44546cdd",
   "metadata": {
    "execution": {
     "iopub.execute_input": "2022-07-23T17:29:41.446548Z",
     "iopub.status.busy": "2022-07-23T17:29:41.446164Z",
     "iopub.status.idle": "2022-07-23T17:29:41.457955Z",
     "shell.execute_reply": "2022-07-23T17:29:41.456530Z",
     "shell.execute_reply.started": "2022-07-23T17:29:41.446517Z"
    },
    "papermill": {
     "duration": null,
     "end_time": null,
     "exception": null,
     "start_time": null,
     "status": "pending"
    },
    "tags": []
   },
   "outputs": [],
   "source": [
    "family_mapping = {1: 0, 2: 0.4, 3: 0.8, 4: 1.2, 5: 1.6, 6: 2, 7: 2.4, 8: 2.8, 9: 3.2, 10: 3.6, 11: 4}\n",
    "for dataset in train_test_data:\n",
    "    dataset['FamilySize'] = dataset['FamilySize'].map(family_mapping)"
   ]
  },
  {
   "cell_type": "code",
   "execution_count": null,
   "id": "07e311a2",
   "metadata": {
    "execution": {
     "iopub.execute_input": "2022-07-23T17:29:53.505880Z",
     "iopub.status.busy": "2022-07-23T17:29:53.505466Z",
     "iopub.status.idle": "2022-07-23T17:29:53.526364Z",
     "shell.execute_reply": "2022-07-23T17:29:53.525020Z",
     "shell.execute_reply.started": "2022-07-23T17:29:53.505848Z"
    },
    "papermill": {
     "duration": null,
     "end_time": null,
     "exception": null,
     "start_time": null,
     "status": "pending"
    },
    "tags": []
   },
   "outputs": [],
   "source": [
    "train.head()"
   ]
  },
  {
   "cell_type": "code",
   "execution_count": null,
   "id": "6af2861a",
   "metadata": {
    "execution": {
     "iopub.execute_input": "2022-07-23T17:30:05.612181Z",
     "iopub.status.busy": "2022-07-23T17:30:05.610330Z",
     "iopub.status.idle": "2022-07-23T17:30:05.627500Z",
     "shell.execute_reply": "2022-07-23T17:30:05.625951Z",
     "shell.execute_reply.started": "2022-07-23T17:30:05.612109Z"
    },
    "papermill": {
     "duration": null,
     "end_time": null,
     "exception": null,
     "start_time": null,
     "status": "pending"
    },
    "tags": []
   },
   "outputs": [],
   "source": [
    "features_drop = ['Ticket','SibSp','Parch']\n",
    "train = train.drop(features_drop, axis = 1)\n",
    "test = test.drop(features_drop,axis=1)\n",
    "train = train.drop(['PassengerId'], axis=1)"
   ]
  },
  {
   "cell_type": "code",
   "execution_count": null,
   "id": "bcc31cbf",
   "metadata": {
    "execution": {
     "iopub.execute_input": "2022-07-23T17:31:49.648374Z",
     "iopub.status.busy": "2022-07-23T17:31:49.647900Z",
     "iopub.status.idle": "2022-07-23T17:31:49.657121Z",
     "shell.execute_reply": "2022-07-23T17:31:49.655563Z",
     "shell.execute_reply.started": "2022-07-23T17:31:49.648321Z"
    },
    "papermill": {
     "duration": null,
     "end_time": null,
     "exception": null,
     "start_time": null,
     "status": "pending"
    },
    "tags": []
   },
   "outputs": [],
   "source": [
    "dataset.drop(labels = [\"Ticket\",'Cabin','PassengerId'], axis = 1, \n",
    "             inplace = True)"
   ]
  },
  {
   "cell_type": "code",
   "execution_count": null,
   "id": "9dcd5fb8",
   "metadata": {
    "execution": {
     "iopub.execute_input": "2022-07-23T17:35:14.775942Z",
     "iopub.status.busy": "2022-07-23T17:35:14.775267Z",
     "iopub.status.idle": "2022-07-23T17:35:14.787074Z",
     "shell.execute_reply": "2022-07-23T17:35:14.785259Z",
     "shell.execute_reply.started": "2022-07-23T17:35:14.775892Z"
    },
    "papermill": {
     "duration": null,
     "end_time": null,
     "exception": null,
     "start_time": null,
     "status": "pending"
    },
    "tags": []
   },
   "outputs": [],
   "source": [
    "X_train = train.drop(\"Survived\", axis=1)\n",
    "Y_train = train[\"Survived\"]\n",
    "X_test  = test.drop(\"PassengerId\", axis=1).copy()"
   ]
  },
  {
   "cell_type": "code",
   "execution_count": null,
   "id": "72187390",
   "metadata": {
    "execution": {
     "iopub.execute_input": "2022-07-23T17:39:19.649695Z",
     "iopub.status.busy": "2022-07-23T17:39:19.649210Z",
     "iopub.status.idle": "2022-07-23T17:39:19.656885Z",
     "shell.execute_reply": "2022-07-23T17:39:19.655524Z",
     "shell.execute_reply.started": "2022-07-23T17:39:19.649656Z"
    },
    "papermill": {
     "duration": null,
     "end_time": null,
     "exception": null,
     "start_time": null,
     "status": "pending"
    },
    "tags": []
   },
   "outputs": [],
   "source": [
    "from sklearn.neighbors import KNeighborsClassifier\n",
    "from sklearn.tree import DecisionTreeClassifier,ExtraTreeClassifier\n",
    "from sklearn.ensemble import RandomForestClassifier,ExtraTreesClassifier,BaggingClassifier,AdaBoostClassifier,GradientBoostingClassifier\n",
    "from sklearn.naive_bayes import GaussianNB\n",
    "from sklearn.svm import SVC\n",
    "\n",
    "import numpy as np"
   ]
  },
  {
   "cell_type": "code",
   "execution_count": null,
   "id": "3e55d609",
   "metadata": {
    "execution": {
     "iopub.execute_input": "2022-07-23T17:39:38.448043Z",
     "iopub.status.busy": "2022-07-23T17:39:38.447062Z",
     "iopub.status.idle": "2022-07-23T17:39:38.465904Z",
     "shell.execute_reply": "2022-07-23T17:39:38.464389Z",
     "shell.execute_reply.started": "2022-07-23T17:39:38.447970Z"
    },
    "papermill": {
     "duration": null,
     "end_time": null,
     "exception": null,
     "start_time": null,
     "status": "pending"
    },
    "tags": []
   },
   "outputs": [],
   "source": [
    "train.info()"
   ]
  },
  {
   "cell_type": "code",
   "execution_count": null,
   "id": "c46f5833",
   "metadata": {
    "execution": {
     "iopub.execute_input": "2022-07-23T17:40:07.701514Z",
     "iopub.status.busy": "2022-07-23T17:40:07.701158Z",
     "iopub.status.idle": "2022-07-23T17:40:07.706481Z",
     "shell.execute_reply": "2022-07-23T17:40:07.705655Z",
     "shell.execute_reply.started": "2022-07-23T17:40:07.701484Z"
    },
    "papermill": {
     "duration": null,
     "end_time": null,
     "exception": null,
     "start_time": null,
     "status": "pending"
    },
    "tags": []
   },
   "outputs": [],
   "source": [
    "from sklearn.model_selection import KFold\n",
    "from sklearn.model_selection import cross_val_score\n",
    "k_fold = KFold(n_splits=10, shuffle=True, random_state=0)"
   ]
  },
  {
   "cell_type": "code",
   "execution_count": null,
   "id": "7a208f97",
   "metadata": {
    "papermill": {
     "duration": null,
     "end_time": null,
     "exception": null,
     "start_time": null,
     "status": "pending"
    },
    "tags": []
   },
   "outputs": [],
   "source": [
    "#learning_rates = [0.05, 0.1, 0.25, 0.5, 0.75, 1]\n",
    "clf = [KNeighborsClassifier(n_neighbors = 13),DecisionTreeClassifier(),\n",
    "       RandomForestClassifier(n_estimators=13),GaussianNB(),SVC(),ExtraTreeClassifier(),\n",
    "      GradientBoostingClassifier(n_estimators=10, learning_rate=1,max_features=3, max_depth =3, random_state = 10),AdaBoostClassifier(),ExtraTreesClassifier()]\n",
    "def model_fit():\n",
    "    scoring = 'accuracy'\n",
    "    for i in range(len(clf)):\n",
    "        score = cross_val_score(clf[i], train_data, target, cv=k_fold, n_jobs=1, scoring=scoring)\n",
    "        print(\"Score of Model\",i,\":\",round(np.mean(score)*100,2))\n",
    "#     round(np.mean(score)*100,2)\n",
    "#     print(\"Score of :\\n\",score)\n",
    "model_fit()"
   ]
  }
 ],
 "metadata": {
  "kernelspec": {
   "display_name": "Python 3",
   "language": "python",
   "name": "python3"
  },
  "language_info": {
   "codemirror_mode": {
    "name": "ipython",
    "version": 3
   },
   "file_extension": ".py",
   "mimetype": "text/x-python",
   "name": "python",
   "nbconvert_exporter": "python",
   "pygments_lexer": "ipython3",
   "version": "3.7.12"
  },
  "papermill": {
   "default_parameters": {},
   "duration": 24.045244,
   "end_time": "2022-07-23T17:44:58.663934",
   "environment_variables": {},
   "exception": true,
   "input_path": "__notebook__.ipynb",
   "output_path": "__notebook__.ipynb",
   "parameters": {},
   "start_time": "2022-07-23T17:44:34.618690",
   "version": "2.3.4"
  }
 },
 "nbformat": 4,
 "nbformat_minor": 5
}
